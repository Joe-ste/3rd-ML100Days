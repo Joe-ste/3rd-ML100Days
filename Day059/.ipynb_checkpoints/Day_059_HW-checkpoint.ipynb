{
 "cells": [
  {
   "cell_type": "markdown",
   "metadata": {},
   "source": [
    "# 作業\n",
    "### 用 digits (3個數字即可 , dataset.load_digits(n_class=3)) 資料嘗試跑 PCA\n"
   ]
  },
  {
   "cell_type": "code",
   "execution_count": 55,
   "metadata": {},
   "outputs": [],
   "source": [
    "from sklearn import datasets\n",
    "\n",
    "digits = datasets.load_digits(n_class=3)\n",
    "X = digits.data\n",
    "y = digits.target"
   ]
  },
  {
   "cell_type": "code",
   "execution_count": 56,
   "metadata": {},
   "outputs": [
    {
     "data": {
      "text/plain": [
       "\".. _digits_dataset:\\n\\nOptical recognition of handwritten digits dataset\\n--------------------------------------------------\\n\\n**Data Set Characteristics:**\\n\\n    :Number of Instances: 5620\\n    :Number of Attributes: 64\\n    :Attribute Information: 8x8 image of integer pixels in the range 0..16.\\n    :Missing Attribute Values: None\\n    :Creator: E. Alpaydin (alpaydin '@' boun.edu.tr)\\n    :Date: July; 1998\\n\\nThis is a copy of the test set of the UCI ML hand-written digits datasets\\nhttps://archive.ics.uci.edu/ml/datasets/Optical+Recognition+of+Handwritten+Digits\\n\\nThe data set contains images of hand-written digits: 10 classes where\\neach class refers to a digit.\\n\\nPreprocessing programs made available by NIST were used to extract\\nnormalized bitmaps of handwritten digits from a preprinted form. From a\\ntotal of 43 people, 30 contributed to the training set and different 13\\nto the test set. 32x32 bitmaps are divided into nonoverlapping blocks of\\n4x4 and the number of on pixels are counted in each block. This generates\\nan input matrix of 8x8 where each element is an integer in the range\\n0..16. This reduces dimensionality and gives invariance to small\\ndistortions.\\n\\nFor info on NIST preprocessing routines, see M. D. Garris, J. L. Blue, G.\\nT. Candela, D. L. Dimmick, J. Geist, P. J. Grother, S. A. Janet, and C.\\nL. Wilson, NIST Form-Based Handprint Recognition System, NISTIR 5469,\\n1994.\\n\\n.. topic:: References\\n\\n  - C. Kaynak (1995) Methods of Combining Multiple Classifiers and Their\\n    Applications to Handwritten Digit Recognition, MSc Thesis, Institute of\\n    Graduate Studies in Science and Engineering, Bogazici University.\\n  - E. Alpaydin, C. Kaynak (1998) Cascading Classifiers, Kybernetika.\\n  - Ken Tang and Ponnuthurai N. Suganthan and Xi Yao and A. Kai Qin.\\n    Linear dimensionalityreduction using relevance weighted LDA. School of\\n    Electrical and Electronic Engineering Nanyang Technological University.\\n    2005.\\n  - Claudio Gentile. A New Approximate Maximal Margin Classification\\n    Algorithm. NIPS. 2000.\""
      ]
     },
     "execution_count": 56,
     "metadata": {},
     "output_type": "execute_result"
    }
   ],
   "source": [
    "digits.DESCR"
   ]
  },
  {
   "cell_type": "markdown",
   "metadata": {},
   "source": [
    "載入 相關套件 並 執行 PCA 實驗 ..."
   ]
  },
  {
   "cell_type": "code",
   "execution_count": 57,
   "metadata": {},
   "outputs": [],
   "source": [
    "import numpy as np\n",
    "import matplotlib.pyplot as plt\n",
    "\n",
    "from sklearn import decomposition\n",
    "from itertools import cycle, islice\n",
    "\n",
    "pca = decomposition.PCA(n_components=1)"
   ]
  },
  {
   "cell_type": "code",
   "execution_count": 63,
   "metadata": {},
   "outputs": [
    {
     "data": {
      "text/plain": [
       "<function matplotlib.pyplot.show(*args, **kw)>"
      ]
     },
     "execution_count": 63,
     "metadata": {},
     "output_type": "execute_result"
    },
    {
     "data": {
      "image/png": "[encoded data removed]",
      "text/plain": [
       "<Figure size 432x288 with 1 Axes>"
      ]
     },
     "metadata": {
      "needs_background": "light"
     },
     "output_type": "display_data"
    }
   ],
   "source": [
    "pca.fit(X)\n",
    "X = pca.transform(X)\n",
    "\n",
    "fig = plt.figure()\n",
    "rgb = np.array(['r', 'g', 'b'])\n",
    "plt.plot(X[y==0], np.zeros_like(X[y==0]), 'r.')\n",
    "plt.plot(X[y==1], np.zeros_like(X[y==1]), 'g.')\n",
    "plt.plot(X[y==2], np.zeros_like(X[y==2]), 'b.')\n",
    "plt.show"
   ]
  },
  {
   "cell_type": "code",
   "execution_count": 53,
   "metadata": {},
   "outputs": [
    {
     "data": {
      "text/plain": [
       "array(['r', 'g', 'b', 'r', 'g', 'b', 'r', 'g', 'b', 'r', 'r', 'g', 'g',\n",
       "       'r', 'r', 'b', 'b', 'b', 'r', 'g', 'b', 'g', 'r', 'b', 'b', 'r',\n",
       "       'r', 'g', 'b', 'g', 'g', 'g', 'g', 'r', 'g', 'b', 'b', 'b', 'r',\n",
       "       'r', 'g', 'b', 'r', 'g', 'b', 'r', 'g', 'b', 'r', 'r', 'g', 'g',\n",
       "       'r', 'r', 'b', 'b', 'b', 'r', 'g', 'b', 'g', 'r', 'b', 'b', 'r',\n",
       "       'r', 'g', 'b', 'g', 'g', 'g', 'g', 'r', 'g', 'b', 'b', 'b', 'r',\n",
       "       'r', 'g', 'b', 'r', 'g', 'b', 'r', 'g', 'b', 'r', 'r', 'g', 'g',\n",
       "       'r', 'r', 'b', 'b', 'b', 'r', 'g', 'b', 'g', 'r', 'b', 'b', 'r',\n",
       "       'r', 'g', 'b', 'g', 'g', 'g', 'g', 'r', 'g', 'b', 'b', 'b', 'r',\n",
       "       'r', 'g', 'b', 'r', 'g', 'b', 'r', 'g', 'b', 'r', 'r', 'g', 'g',\n",
       "       'r', 'r', 'b', 'b', 'b', 'r', 'g', 'b', 'g', 'r', 'b', 'b', 'r',\n",
       "       'r', 'g', 'b', 'g', 'g', 'g', 'g', 'r', 'g', 'b', 'b', 'b', 'r',\n",
       "       'r', 'g', 'b', 'r', 'g', 'b', 'r', 'g', 'b', 'r', 'r', 'g', 'g',\n",
       "       'r', 'r', 'b', 'b', 'b', 'r', 'g', 'b', 'g', 'r', 'b', 'b', 'r',\n",
       "       'r', 'g', 'b', 'g', 'g', 'g', 'g', 'r', 'g', 'b', 'b', 'b', 'r',\n",
       "       'r', 'g', 'b', 'r', 'g', 'b', 'r', 'g', 'b', 'r', 'r', 'g', 'g',\n",
       "       'r', 'r', 'b', 'b', 'b', 'r', 'g', 'b', 'g', 'r', 'b', 'b', 'r',\n",
       "       'r', 'g', 'b', 'g', 'g', 'g', 'g', 'r', 'g', 'b', 'b', 'b', 'r',\n",
       "       'r', 'g', 'b', 'r', 'g', 'b', 'r', 'g', 'b', 'r', 'r', 'g', 'g',\n",
       "       'r', 'r', 'b', 'b', 'b', 'r', 'g', 'b', 'g', 'r', 'b', 'b', 'r',\n",
       "       'r', 'g', 'b', 'g', 'g', 'g', 'g', 'r', 'g', 'b', 'b', 'b', 'r',\n",
       "       'g', 'b', 'r', 'g', 'b', 'r', 'g', 'b', 'r', 'r', 'g', 'g', 'b',\n",
       "       'b', 'r', 'g', 'b', 'g', 'r', 'b', 'b', 'r', 'r', 'g', 'b', 'g',\n",
       "       'g', 'g', 'g', 'r', 'g', 'b', 'b', 'b', 'r', 'r', 'g', 'b', 'r',\n",
       "       'g', 'b', 'r', 'g', 'b', 'r', 'r', 'g', 'g', 'r', 'r', 'b', 'r',\n",
       "       'g', 'b', 'g', 'r', 'b', 'b', 'r', 'r', 'g', 'b', 'g', 'g', 'g',\n",
       "       'g', 'r', 'g', 'b', 'b', 'b', 'r', 'r', 'g', 'b', 'r', 'g', 'b',\n",
       "       'r', 'g', 'b', 'r', 'r', 'g', 'g', 'r', 'r', 'b', 'b', 'b', 'r',\n",
       "       'g', 'b', 'g', 'r', 'b', 'b', 'r', 'r', 'g', 'b', 'g', 'g', 'g',\n",
       "       'g', 'r', 'g', 'b', 'b', 'b', 'r', 'r', 'g', 'b', 'r', 'g', 'b',\n",
       "       'r', 'g', 'b', 'r', 'r', 'g', 'g', 'r', 'r', 'b', 'b', 'b', 'r',\n",
       "       'g', 'b', 'g', 'r', 'b', 'b', 'r', 'r', 'g', 'b', 'g', 'g', 'g',\n",
       "       'g', 'r', 'g', 'b', 'b', 'b', 'r', 'r', 'g', 'b', 'r', 'g', 'b',\n",
       "       'r', 'g', 'b', 'r', 'r', 'g', 'g', 'r', 'r', 'b', 'b', 'b', 'r',\n",
       "       'g', 'b', 'g', 'r', 'b', 'b', 'r', 'r', 'g', 'b', 'g', 'g', 'g',\n",
       "       'g', 'r', 'g', 'b', 'b', 'b', 'r', 'r', 'g', 'b', 'r', 'g', 'b',\n",
       "       'r', 'g', 'b', 'r', 'r', 'g', 'g', 'r', 'r', 'b', 'b', 'b', 'r',\n",
       "       'g', 'b', 'g', 'r', 'b', 'r', 'g', 'b', 'g', 'g', 'g', 'g', 'r',\n",
       "       'g', 'b', 'b', 'r', 'r', 'g', 'b', 'r', 'g', 'b', 'r', 'g', 'b',\n",
       "       'r', 'r', 'g', 'g', 'r', 'r', 'b', 'b', 'b', 'r', 'g', 'b', 'g',\n",
       "       'r', 'b', 'b', 'r', 'r', 'g', 'b', 'g', 'g', 'g', 'g', 'r', 'g',\n",
       "       'b', 'b', 'b', 'r'], dtype='<U1')"
      ]
     },
     "execution_count": 53,
     "metadata": {},
     "output_type": "execute_result"
    }
   ],
   "source": [
    "rgb[y]"
   ]
  },
  {
   "cell_type": "code",
   "execution_count": null,
   "metadata": {},
   "outputs": [],
   "source": []
  }
 ],
 "metadata": {
  "kernelspec": {
   "display_name": "Python 3",
   "language": "python",
   "name": "python3"
  },
  "language_info": {
   "codemirror_mode": {
    "name": "ipython",
    "version": 3
   },
   "file_extension": ".py",
   "mimetype": "text/x-python",
   "name": "python",
   "nbconvert_exporter": "python",
   "pygments_lexer": "ipython3",
   "version": "3.7.7"
  }
 },
 "nbformat": 4,
 "nbformat_minor": 2
}
