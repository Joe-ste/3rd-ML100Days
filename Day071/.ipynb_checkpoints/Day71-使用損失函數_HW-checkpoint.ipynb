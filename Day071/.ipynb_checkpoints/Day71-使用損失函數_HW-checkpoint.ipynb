{
 "cells": [
  {
   "cell_type": "markdown",
   "metadata": {
    "colab_type": "text",
    "id": "cj4tE8e8iUtO"
   },
   "source": [
    "#   \n",
    "\n",
    "# 作業目標:\n",
    "\n",
    "    1. 藉由固定的 dataset, 來驗證不同loss function\n",
    "    2. Dataset 的特性跟我們選用的loss function 對accrancy 的影響\n",
    "    \n",
    "    \n",
    "# 作業重點: \n",
    "    請分別選用 \"MSE\", \"binary _crossentropy\"\n",
    "    查看Train/test accurancy and loss rate\n",
    "    "
   ]
  },
  {
   "cell_type": "markdown",
   "metadata": {
    "colab_type": "text",
    "id": "R51J4KyyiUsL"
   },
   "source": [
    "# 導入必要的函數"
   ]
  },
  {
   "cell_type": "code",
   "execution_count": 1,
   "metadata": {
    "colab": {},
    "colab_type": "code",
    "id": "Qd68OQjciUsM"
   },
   "outputs": [],
   "source": [
    "from keras.datasets import cifar10\n",
    "import numpy as np\n",
    "np.random.seed(10)"
   ]
  },
  {
   "cell_type": "markdown",
   "metadata": {
    "colab_type": "text",
    "id": "GxKuzQLQiUsP"
   },
   "source": [
    "# 資料準備"
   ]
  },
  {
   "cell_type": "code",
   "execution_count": 2,
   "metadata": {
    "colab": {},
    "colab_type": "code",
    "id": "MIbFZdTCiUsQ"
   },
   "outputs": [],
   "source": [
    "#取得Keras Dataset\n",
    "(x_img_train,y_label_train),(x_img_test,y_label_test)=cifar10.load_data()"
   ]
  },
  {
   "cell_type": "code",
   "execution_count": 3,
   "metadata": {
    "colab": {},
    "colab_type": "code",
    "id": "J8CJVjNOiUsS"
   },
   "outputs": [
    {
     "name": "stdout",
     "output_type": "stream",
     "text": [
      "train data: images: (50000, 32, 32, 3)  labels: (50000, 1)\n",
      "test  data: images: (10000, 32, 32, 3)  labels: (10000, 1)\n"
     ]
    }
   ],
   "source": [
    "#確認 CIFAR10 Dataset 資料維度\n",
    "print(\"train data:\",'images:',x_img_train.shape,\n",
    "      \" labels:\",y_label_train.shape) \n",
    "print(\"test  data:\",'images:',x_img_test.shape ,\n",
    "      \" labels:\",y_label_test.shape) "
   ]
  },
  {
   "cell_type": "code",
   "execution_count": 4,
   "metadata": {
    "colab": {},
    "colab_type": "code",
    "id": "V3P6P4DXiUsV"
   },
   "outputs": [],
   "source": [
    "#資料正規化\n",
    "x_img_train_normalize = x_img_train.astype('float32') / 255.0\n",
    "x_img_test_normalize = x_img_test.astype('float32') / 255.0"
   ]
  },
  {
   "cell_type": "code",
   "execution_count": 5,
   "metadata": {
    "colab": {},
    "colab_type": "code",
    "id": "vsDyjKYliUsX"
   },
   "outputs": [
    {
     "data": {
      "text/plain": [
       "(10000, 10)"
      ]
     },
     "execution_count": 5,
     "metadata": {},
     "output_type": "execute_result"
    }
   ],
   "source": [
    "#針對Label 做 ONE HOT ENCODE\n",
    "from keras.utils import np_utils\n",
    "y_label_train_OneHot = np_utils.to_categorical(y_label_train)\n",
    "y_label_test_OneHot = np_utils.to_categorical(y_label_test)\n",
    "y_label_test_OneHot.shape"
   ]
  },
  {
   "cell_type": "markdown",
   "metadata": {
    "colab_type": "text",
    "id": "RutW2OtgiUsZ"
   },
   "source": [
    "# 建立模型"
   ]
  },
  {
   "cell_type": "code",
   "execution_count": 6,
   "metadata": {
    "colab": {},
    "colab_type": "code",
    "id": "aHz592aXiUsa"
   },
   "outputs": [],
   "source": [
    "from keras.models import Sequential\n",
    "from keras.layers import Dense, Dropout, Activation, Flatten\n",
    "from keras.layers import Conv2D, MaxPooling2D, ZeroPadding2D"
   ]
  },
  {
   "cell_type": "code",
   "execution_count": 7,
   "metadata": {
    "colab": {},
    "colab_type": "code",
    "id": "hslqrIp0iUse"
   },
   "outputs": [],
   "source": [
    "model = Sequential()"
   ]
  },
  {
   "cell_type": "code",
   "execution_count": 8,
   "metadata": {
    "colab": {},
    "colab_type": "code",
    "id": "Hqe35hs2iUsi"
   },
   "outputs": [],
   "source": [
    "#卷積層1"
   ]
  },
  {
   "cell_type": "code",
   "execution_count": 9,
   "metadata": {
    "colab": {},
    "colab_type": "code",
    "id": "ED7dqe1YiUsm"
   },
   "outputs": [],
   "source": [
    "model.add(Conv2D(filters=32,kernel_size=(3,3),\n",
    "                 input_shape=(32, 32,3), \n",
    "                 activation='relu', \n",
    "                 padding='same'))"
   ]
  },
  {
   "cell_type": "code",
   "execution_count": 10,
   "metadata": {
    "colab": {},
    "colab_type": "code",
    "id": "n-GRKmPViUso"
   },
   "outputs": [],
   "source": [
    "model.add(Dropout(rate=0.25))"
   ]
  },
  {
   "cell_type": "code",
   "execution_count": 11,
   "metadata": {
    "colab": {},
    "colab_type": "code",
    "id": "GlWnnD1uiUsw"
   },
   "outputs": [],
   "source": [
    "model.add(MaxPooling2D(pool_size=(2, 2)))"
   ]
  },
  {
   "cell_type": "code",
   "execution_count": 12,
   "metadata": {
    "colab": {},
    "colab_type": "code",
    "id": "nawlkt55iUsy"
   },
   "outputs": [],
   "source": [
    "#卷積層2與池化層2"
   ]
  },
  {
   "cell_type": "code",
   "execution_count": 13,
   "metadata": {
    "colab": {},
    "colab_type": "code",
    "id": "xxyETiKNiUs1"
   },
   "outputs": [],
   "source": [
    "model.add(Conv2D(filters=64, kernel_size=(3, 3), \n",
    "                 activation='relu', padding='same'))"
   ]
  },
  {
   "cell_type": "code",
   "execution_count": 14,
   "metadata": {
    "colab": {},
    "colab_type": "code",
    "id": "RqcKWtqGiUs2"
   },
   "outputs": [],
   "source": [
    "model.add(Dropout(0.25))"
   ]
  },
  {
   "cell_type": "code",
   "execution_count": 15,
   "metadata": {
    "colab": {},
    "colab_type": "code",
    "id": "BUOOzlqfiUs4"
   },
   "outputs": [],
   "source": [
    "model.add(MaxPooling2D(pool_size=(2, 2)))"
   ]
  },
  {
   "cell_type": "code",
   "execution_count": 16,
   "metadata": {
    "colab": {},
    "colab_type": "code",
    "id": "LpkppB2siUs7"
   },
   "outputs": [],
   "source": [
    "#建立神經網路(平坦層、隱藏層、輸出層)"
   ]
  },
  {
   "cell_type": "code",
   "execution_count": 17,
   "metadata": {
    "colab": {},
    "colab_type": "code",
    "id": "UQOfU54_iUs_"
   },
   "outputs": [],
   "source": [
    "model.add(Flatten())\n",
    "model.add(Dropout(rate=0.25))"
   ]
  },
  {
   "cell_type": "code",
   "execution_count": 18,
   "metadata": {
    "colab": {},
    "colab_type": "code",
    "id": "_NV-8sq4iUtD"
   },
   "outputs": [],
   "source": [
    "model.add(Dense(1024, activation='relu'))\n",
    "model.add(Dropout(rate=0.25))"
   ]
  },
  {
   "cell_type": "code",
   "execution_count": 19,
   "metadata": {
    "colab": {},
    "colab_type": "code",
    "id": "qVK77krOiUtF"
   },
   "outputs": [],
   "source": [
    "model.add(Dense(10, activation='softmax'))"
   ]
  },
  {
   "cell_type": "code",
   "execution_count": 20,
   "metadata": {
    "colab": {},
    "colab_type": "code",
    "id": "ZxzRIjR0iUtH"
   },
   "outputs": [
    {
     "name": "stdout",
     "output_type": "stream",
     "text": [
      "Model: \"sequential\"\n",
      "_________________________________________________________________\n",
      "Layer (type)                 Output Shape              Param #   \n",
      "=================================================================\n",
      "conv2d (Conv2D)              (None, 32, 32, 32)        896       \n",
      "_________________________________________________________________\n",
      "dropout (Dropout)            (None, 32, 32, 32)        0         \n",
      "_________________________________________________________________\n",
      "max_pooling2d (MaxPooling2D) (None, 16, 16, 32)        0         \n",
      "_________________________________________________________________\n",
      "conv2d_1 (Conv2D)            (None, 16, 16, 64)        18496     \n",
      "_________________________________________________________________\n",
      "dropout_1 (Dropout)          (None, 16, 16, 64)        0         \n",
      "_________________________________________________________________\n",
      "max_pooling2d_1 (MaxPooling2 (None, 8, 8, 64)          0         \n",
      "_________________________________________________________________\n",
      "flatten (Flatten)            (None, 4096)              0         \n",
      "_________________________________________________________________\n",
      "dropout_2 (Dropout)          (None, 4096)              0         \n",
      "_________________________________________________________________\n",
      "dense (Dense)                (None, 1024)              4195328   \n",
      "_________________________________________________________________\n",
      "dropout_3 (Dropout)          (None, 1024)              0         \n",
      "_________________________________________________________________\n",
      "dense_1 (Dense)              (None, 10)                10250     \n",
      "=================================================================\n",
      "Total params: 4,224,970\n",
      "Trainable params: 4,224,970\n",
      "Non-trainable params: 0\n",
      "_________________________________________________________________\n",
      "None\n"
     ]
    }
   ],
   "source": [
    "#檢查model 的STACK\n",
    "print(model.summary())"
   ]
  },
  {
   "cell_type": "markdown",
   "metadata": {
    "colab_type": "text",
    "id": "QJCtpJM0iUtJ"
   },
   "source": [
    "# 載入之前訓練的模型"
   ]
  },
  {
   "cell_type": "code",
   "execution_count": 21,
   "metadata": {
    "colab": {},
    "colab_type": "code",
    "id": "JU3A6NzQiUtK"
   },
   "outputs": [
    {
     "name": "stdout",
     "output_type": "stream",
     "text": [
      "載入模型失敗!開始訓練一個新模型\n"
     ]
    }
   ],
   "source": [
    "try:\n",
    "    model.load_weights(\"SaveModel/cifarCnnModel.h5\")\n",
    "    print(\"載入模型成功!繼續訓練模型\")\n",
    "except :    \n",
    "    print(\"載入模型失敗!開始訓練一個新模型\")"
   ]
  },
  {
   "cell_type": "markdown",
   "metadata": {
    "colab_type": "text",
    "id": "qBbCuziziUtM"
   },
   "source": [
    "# 訓練模型"
   ]
  },
  {
   "cell_type": "code",
   "execution_count": 22,
   "metadata": {
    "colab": {},
    "colab_type": "code",
    "id": "Q6BiBcseiUtP"
   },
   "outputs": [
    {
     "data": {
      "text/plain": [
       "'\\n作業:\\n請分別選用 \"MSE\", \"binary _crossentropy\"\\n查看Train/test accurancy and loss rate\\n'"
      ]
     },
     "execution_count": 22,
     "metadata": {},
     "output_type": "execute_result"
    }
   ],
   "source": [
    "model.compile(loss='categorical_crossentropy', optimizer='sgd', metrics=['accuracy'])\n",
    "\n",
    "'''\n",
    "作業:\n",
    "請分別選用 \"MSE\", \"binary _crossentropy\"\n",
    "查看Train/test accurancy and loss rate\n",
    "'''"
   ]
  },
  {
   "cell_type": "code",
   "execution_count": 23,
   "metadata": {},
   "outputs": [
    {
     "name": "stdout",
     "output_type": "stream",
     "text": [
      "Epoch 1/12\n",
      "293/293 [==============================] - 72s 246ms/step - loss: 2.1625 - accuracy: 0.2011 - val_loss: 2.0628 - val_accuracy: 0.2948\n",
      "Epoch 2/12\n",
      "293/293 [==============================] - 74s 254ms/step - loss: 1.9487 - accuracy: 0.3017 - val_loss: 1.9445 - val_accuracy: 0.3565\n",
      "Epoch 3/12\n",
      "293/293 [==============================] - 76s 260ms/step - loss: 1.8255 - accuracy: 0.3534 - val_loss: 1.8410 - val_accuracy: 0.3962\n",
      "Epoch 4/12\n",
      "293/293 [==============================] - 80s 273ms/step - loss: 1.7260 - accuracy: 0.3875 - val_loss: 1.7510 - val_accuracy: 0.4146\n",
      "Epoch 5/12\n",
      "293/293 [==============================] - 76s 259ms/step - loss: 1.6476 - accuracy: 0.4153 - val_loss: 1.6743 - val_accuracy: 0.4494\n",
      "Epoch 6/12\n",
      "293/293 [==============================] - 75s 255ms/step - loss: 1.5834 - accuracy: 0.4335 - val_loss: 1.6141 - val_accuracy: 0.4686\n",
      "Epoch 7/12\n",
      "293/293 [==============================] - 70s 240ms/step - loss: 1.5303 - accuracy: 0.4519 - val_loss: 1.5657 - val_accuracy: 0.4898\n",
      "Epoch 8/12\n",
      "293/293 [==============================] - 73s 248ms/step - loss: 1.4857 - accuracy: 0.4702 - val_loss: 1.5189 - val_accuracy: 0.4946\n",
      "Epoch 9/12\n",
      "293/293 [==============================] - 77s 264ms/step - loss: 1.4516 - accuracy: 0.4806 - val_loss: 1.4866 - val_accuracy: 0.5108\n",
      "Epoch 10/12\n",
      "293/293 [==============================] - 78s 265ms/step - loss: 1.4163 - accuracy: 0.4942 - val_loss: 1.4462 - val_accuracy: 0.5197\n",
      "Epoch 11/12\n",
      "293/293 [==============================] - 75s 257ms/step - loss: 1.3860 - accuracy: 0.5065 - val_loss: 1.4358 - val_accuracy: 0.5314\n",
      "Epoch 12/12\n",
      "293/293 [==============================] - 73s 250ms/step - loss: 1.3609 - accuracy: 0.5135 - val_loss: 1.4550 - val_accuracy: 0.5186\n"
     ]
    }
   ],
   "source": [
    "train_history_cce=model.fit(x_img_train_normalize, y_label_train_OneHot,\n",
    "                        validation_split=0.25,\n",
    "                        epochs=12, batch_size=128, verbose=1)"
   ]
  },
  {
   "cell_type": "code",
   "execution_count": 24,
   "metadata": {
    "colab": {},
    "colab_type": "code",
    "id": "4-GdDgmQiUtS"
   },
   "outputs": [],
   "source": [
    "model.compile(loss='binary_crossentropy', optimizer='sgd', metrics=['accuracy'])"
   ]
  },
  {
   "cell_type": "code",
   "execution_count": 25,
   "metadata": {},
   "outputs": [
    {
     "name": "stdout",
     "output_type": "stream",
     "text": [
      "Epoch 1/12\n",
      "293/293 [==============================] - 74s 253ms/step - loss: 0.2059 - accuracy: 0.5283 - val_loss: 0.2151 - val_accuracy: 0.5474\n",
      "Epoch 2/12\n",
      "293/293 [==============================] - 73s 248ms/step - loss: 0.2052 - accuracy: 0.5296 - val_loss: 0.2147 - val_accuracy: 0.5490\n",
      "Epoch 3/12\n",
      "293/293 [==============================] - 69s 235ms/step - loss: 0.2046 - accuracy: 0.5350 - val_loss: 0.2139 - val_accuracy: 0.5507\n",
      "Epoch 4/12\n",
      "293/293 [==============================] - 69s 236ms/step - loss: 0.2043 - accuracy: 0.5344 - val_loss: 0.2135 - val_accuracy: 0.5488\n",
      "Epoch 5/12\n",
      "293/293 [==============================] - 70s 240ms/step - loss: 0.2037 - accuracy: 0.5348 - val_loss: 0.2134 - val_accuracy: 0.5514\n",
      "Epoch 6/12\n",
      "293/293 [==============================] - 74s 252ms/step - loss: 0.2032 - accuracy: 0.5374 - val_loss: 0.2122 - val_accuracy: 0.5530\n",
      "Epoch 7/12\n",
      "293/293 [==============================] - 66s 225ms/step - loss: 0.2029 - accuracy: 0.5346 - val_loss: 0.2121 - val_accuracy: 0.5583\n",
      "Epoch 8/12\n",
      "293/293 [==============================] - 62s 210ms/step - loss: 0.2025 - accuracy: 0.5405 - val_loss: 0.2118 - val_accuracy: 0.5538\n",
      "Epoch 9/12\n",
      "293/293 [==============================] - 55s 188ms/step - loss: 0.2016 - accuracy: 0.5429 - val_loss: 0.2114 - val_accuracy: 0.5578\n",
      "Epoch 10/12\n",
      "293/293 [==============================] - 59s 203ms/step - loss: 0.2014 - accuracy: 0.5426 - val_loss: 0.2112 - val_accuracy: 0.5584 \n",
      "Epoch 11/12\n",
      "293/293 [==============================] - 57s 195ms/step - loss: 0.2010 - accuracy: 0.5443 - val_loss: 0.2102 - val_accuracy: 0.5594\n",
      "Epoch 12/12\n",
      "293/293 [==============================] - 56s 192ms/step - loss: 0.2001 - accuracy: 0.5470 - val_loss: 0.2099 - val_accuracy: 0.5606\n"
     ]
    }
   ],
   "source": [
    "train_history_bce=model.fit(x_img_train_normalize, y_label_train_OneHot,\n",
    "                        validation_split=0.25,\n",
    "                        epochs=12, batch_size=128, verbose=1)"
   ]
  },
  {
   "cell_type": "code",
   "execution_count": 26,
   "metadata": {},
   "outputs": [],
   "source": [
    "model.compile(loss='MSE', optimizer='sgd', metrics=['accuracy'])"
   ]
  },
  {
   "cell_type": "code",
   "execution_count": 27,
   "metadata": {},
   "outputs": [
    {
     "name": "stdout",
     "output_type": "stream",
     "text": [
      "Epoch 1/12\n",
      "293/293 [==============================] - 58s 200ms/step - loss: 0.0589 - accuracy: 0.5478 - val_loss: 0.0615 - val_accuracy: 0.5609\n",
      "Epoch 2/12\n",
      "293/293 [==============================] - 60s 206ms/step - loss: 0.0588 - accuracy: 0.5446 - val_loss: 0.0614 - val_accuracy: 0.5616\n",
      "Epoch 3/12\n",
      "293/293 [==============================] - 55s 189ms/step - loss: 0.0589 - accuracy: 0.5484 - val_loss: 0.0612 - val_accuracy: 0.5630\n",
      "Epoch 4/12\n",
      "293/293 [==============================] - 59s 202ms/step - loss: 0.0588 - accuracy: 0.5489 - val_loss: 0.0613 - val_accuracy: 0.5620\n",
      "Epoch 5/12\n",
      "293/293 [==============================] - 59s 203ms/step - loss: 0.0588 - accuracy: 0.5454 - val_loss: 0.0613 - val_accuracy: 0.5611\n",
      "Epoch 6/12\n",
      "293/293 [==============================] - 58s 199ms/step - loss: 0.0588 - accuracy: 0.5484 - val_loss: 0.0613 - val_accuracy: 0.5594\n",
      "Epoch 7/12\n",
      "293/293 [==============================] - 58s 199ms/step - loss: 0.0587 - accuracy: 0.5498 - val_loss: 0.0612 - val_accuracy: 0.5610\n",
      "Epoch 8/12\n",
      "293/293 [==============================] - 64s 219ms/step - loss: 0.0587 - accuracy: 0.5481 - val_loss: 0.0611 - val_accuracy: 0.5630\n",
      "Epoch 9/12\n",
      "293/293 [==============================] - 60s 204ms/step - loss: 0.0585 - accuracy: 0.5517 - val_loss: 0.0611 - val_accuracy: 0.5638\n",
      "Epoch 10/12\n",
      "293/293 [==============================] - 60s 203ms/step - loss: 0.0585 - accuracy: 0.5515 - val_loss: 0.0610 - val_accuracy: 0.5666\n",
      "Epoch 11/12\n",
      "293/293 [==============================] - 60s 206ms/step - loss: 0.0585 - accuracy: 0.5479 - val_loss: 0.0610 - val_accuracy: 0.5646\n",
      "Epoch 12/12\n",
      "293/293 [==============================] - 59s 200ms/step - loss: 0.0584 - accuracy: 0.5533 - val_loss: 0.0611 - val_accuracy: 0.5641\n"
     ]
    }
   ],
   "source": [
    "train_history_mse=model.fit(x_img_train_normalize, y_label_train_OneHot,\n",
    "                        validation_split=0.25,\n",
    "                        epochs=12, batch_size=128, verbose=1)"
   ]
  },
  {
   "cell_type": "code",
   "execution_count": 34,
   "metadata": {},
   "outputs": [],
   "source": [
    "import matplotlib.pyplot as plt\n",
    "def show_train_history(train_history, train, val):\n",
    "    plt.plot(train_history.history[train])\n",
    "    plt.plot(train_history.history[val])\n",
    "    plt.title('Train history')\n",
    "    plt.legend(['train', 'val'], loc='upper left')\n",
    "    plt.ylabel(train)\n",
    "    plt.xlabel('Epochs')\n",
    "    plt.show()"
   ]
  },
  {
   "cell_type": "code",
   "execution_count": 35,
   "metadata": {},
   "outputs": [
    {
     "data": {
      "image/png": "[encoded data removed]",
      "text/plain": [
       "<Figure size 432x288 with 1 Axes>"
      ]
     },
     "metadata": {
      "needs_background": "light"
     },
     "output_type": "display_data"
    }
   ],
   "source": [
    "show_train_history(train_history_cce, 'accuracy', 'val_accuracy')"
   ]
  },
  {
   "cell_type": "code",
   "execution_count": 36,
   "metadata": {},
   "outputs": [
    {
     "data": {
      "image/png": "[encoded data removed]",
      "text/plain": [
       "<Figure size 432x288 with 1 Axes>"
      ]
     },
     "metadata": {
      "needs_background": "light"
     },
     "output_type": "display_data"
    }
   ],
   "source": [
    "show_train_history(train_history_cce, 'loss', 'val_loss')"
   ]
  },
  {
   "cell_type": "code",
   "execution_count": 37,
   "metadata": {},
   "outputs": [
    {
     "data": {
      "image/png": "[encoded data removed]",
      "text/plain": [
       "<Figure size 432x288 with 1 Axes>"
      ]
     },
     "metadata": {
      "needs_background": "light"
     },
     "output_type": "display_data"
    }
   ],
   "source": [
    "show_train_history(train_history_bce, 'accuracy', 'val_accuracy')"
   ]
  },
  {
   "cell_type": "code",
   "execution_count": 38,
   "metadata": {},
   "outputs": [
    {
     "data": {
      "image/png": "[encoded data removed]",
      "text/plain": [
       "<Figure size 432x288 with 1 Axes>"
      ]
     },
     "metadata": {
      "needs_background": "light"
     },
     "output_type": "display_data"
    }
   ],
   "source": [
    "show_train_history(train_history_bce, 'loss', 'val_loss')"
   ]
  },
  {
   "cell_type": "code",
   "execution_count": 39,
   "metadata": {},
   "outputs": [
    {
     "data": {
      "image/png": "[encoded data removed]",
      "text/plain": [
       "<Figure size 432x288 with 1 Axes>"
      ]
     },
     "metadata": {
      "needs_background": "light"
     },
     "output_type": "display_data"
    }
   ],
   "source": [
    "show_train_history(train_history_mse, 'accuracy', 'val_accuracy')"
   ]
  },
  {
   "cell_type": "code",
   "execution_count": 40,
   "metadata": {},
   "outputs": [
    {
     "data": {
      "image/png": "[encoded data removed]",
      "text/plain": [
       "<Figure size 432x288 with 1 Axes>"
      ]
     },
     "metadata": {
      "needs_background": "light"
     },
     "output_type": "display_data"
    }
   ],
   "source": [
    "show_train_history(train_history_mse, 'loss', 'val_loss')"
   ]
  },
  {
   "cell_type": "code",
   "execution_count": null,
   "metadata": {},
   "outputs": [],
   "source": []
  }
 ],
 "metadata": {
  "colab": {
   "name": "Day71-使用損失函數_HW.ipynb",
   "provenance": [],
   "version": "0.3.2"
  },
  "kernelspec": {
   "display_name": "Python 3",
   "language": "python",
   "name": "python3"
  },
  "language_info": {
   "codemirror_mode": {
    "name": "ipython",
    "version": 3
   },
   "file_extension": ".py",
   "mimetype": "text/x-python",
   "name": "python",
   "nbconvert_exporter": "python",
   "pygments_lexer": "ipython3",
   "version": "3.7.7"
  }
 },
 "nbformat": 4,
 "nbformat_minor": 1
}
