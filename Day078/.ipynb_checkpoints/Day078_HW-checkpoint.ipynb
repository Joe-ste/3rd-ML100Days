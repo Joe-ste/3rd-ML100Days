{
 "cells": [
  {
   "cell_type": "markdown",
   "metadata": {},
   "source": [
    "## Work\n",
    "1. 請嘗試將 preproc_x 替換成以每筆資料的 min/max 進行標準化至 -1 ~ 1 間，再進行訓練\n",
    "2. 請嘗試將 mlp 疊更深 (e.g 5~10 層)，進行訓練後觀察 learning curve 的走勢\n",
    "3. (optional) 請改用 GPU 進行訓練 (如果你有 GPU 的話)，比較使用 CPU 與 GPU 的訓練速度"
   ]
  },
  {
   "cell_type": "code",
   "execution_count": 1,
   "metadata": {},
   "outputs": [
    {
     "data": {
      "text/plain": [
       "'\\nYour code here (optional)\\n確認硬體資源\\n'"
      ]
     },
     "execution_count": 1,
     "metadata": {},
     "output_type": "execute_result"
    }
   ],
   "source": [
    "## \n",
    "\"\"\"\n",
    "Your code here (optional)\n",
    "確認硬體資源\n",
    "\"\"\"\n"
   ]
  },
  {
   "cell_type": "code",
   "execution_count": 2,
   "metadata": {},
   "outputs": [],
   "source": [
    "import os\n",
    "import keras\n",
    "\n",
    "# 請嘗試設定 GPU：os.environ\n"
   ]
  },
  {
   "cell_type": "code",
   "execution_count": 3,
   "metadata": {},
   "outputs": [],
   "source": [
    "train, test = keras.datasets.cifar10.load_data()"
   ]
  },
  {
   "cell_type": "code",
   "execution_count": 4,
   "metadata": {},
   "outputs": [],
   "source": [
    "## 資料前處理\n",
    "\"\"\"\n",
    "Your code here\n",
    "\"\"\"\n",
    "def preproc_x(x, flatten=True):\n",
    "    max_min = x.max() - x.min()\n",
    "    x = x/max_min\n",
    "    if flatten:\n",
    "        x = x.reshape((len(x), -1))\n",
    "    return x\n",
    "def preproc_y(y, num_classes=10):\n",
    "    if y.shape[-1] == 1:\n",
    "        y = keras.utils.to_categorical(y, num_classes)\n",
    "    return y"
   ]
  },
  {
   "cell_type": "code",
   "execution_count": 5,
   "metadata": {},
   "outputs": [],
   "source": [
    "x_train, y_train = train\n",
    "x_test, y_test = test\n",
    "\n",
    "# Preproc the inputs\n",
    "x_train = preproc_x(x_train)\n",
    "x_test = preproc_x(x_test)\n",
    "\n",
    "# Preprc the outputs\n",
    "y_train = preproc_y(y_train)\n",
    "y_test = preproc_y(y_test)"
   ]
  },
  {
   "cell_type": "code",
   "execution_count": 6,
   "metadata": {},
   "outputs": [
    {
     "name": "stdout",
     "output_type": "stream",
     "text": [
      "Model: \"functional_1\"\n",
      "_________________________________________________________________\n",
      "Layer (type)                 Output Shape              Param #   \n",
      "=================================================================\n",
      "input_1 (InputLayer)         [(None, 3072)]            0         \n",
      "_________________________________________________________________\n",
      "hidden_layer1 (Dense)        (None, 512)               1573376   \n",
      "_________________________________________________________________\n",
      "hidden_layer2 (Dense)        (None, 256)               131328    \n",
      "_________________________________________________________________\n",
      "hidden_layer3 (Dense)        (None, 128)               32896     \n",
      "_________________________________________________________________\n",
      "hidden_layer4 (Dense)        (None, 64)                8256      \n",
      "_________________________________________________________________\n",
      "hidden_layer5 (Dense)        (None, 32)                2080      \n",
      "_________________________________________________________________\n",
      "output (Dense)               (None, 10)                330       \n",
      "=================================================================\n",
      "Total params: 1,748,266\n",
      "Trainable params: 1,748,266\n",
      "Non-trainable params: 0\n",
      "_________________________________________________________________\n"
     ]
    }
   ],
   "source": [
    "\"\"\"Code Here\n",
    "建立你的神經網路\n",
    "\"\"\"\n",
    "def build_mlp(input_shape, output_units=10, num_neurons=[512, 256, 128, 64, 32]):\n",
    "    input_layers = keras.layers.Input(input_shape)\n",
    "    for i, n_units in enumerate(num_neurons):\n",
    "        if i==0:\n",
    "            x = keras.layers.Dense(units=n_units, activation=\"relu\", name=\"hidden_layer\"+str(i+1))(input_layers)\n",
    "        else:\n",
    "            x = keras.layers.Dense(units=n_units, activation=\"relu\", name=\"hidden_layer\"+str(i+1))(x)\n",
    "    out = keras.layers.Dense(units=output_units, activation=\"softmax\", name=\"output\")(x)\n",
    "    model = keras.models.Model(inputs=[input_layers], outputs=[out])\n",
    "    return model\n",
    "model = build_mlp(input_shape=x_train.shape[1:])\n",
    "model.summary()"
   ]
  },
  {
   "cell_type": "code",
   "execution_count": 7,
   "metadata": {},
   "outputs": [],
   "source": [
    "## 超參數設定\n",
    "LEARNING_RATE = 0.001\n",
    "EPOCHS = 100\n",
    "BATCH_SIZE = 256"
   ]
  },
  {
   "cell_type": "code",
   "execution_count": 8,
   "metadata": {},
   "outputs": [],
   "source": [
    "optimizer = keras.optimizers.Adam(lr=LEARNING_RATE)\n",
    "model.compile(loss=\"categorical_crossentropy\", metrics=[\"accuracy\"], optimizer=optimizer)"
   ]
  },
  {
   "cell_type": "code",
   "execution_count": 9,
   "metadata": {},
   "outputs": [
    {
     "name": "stdout",
     "output_type": "stream",
     "text": [
      "Epoch 1/100\n",
      "WARNING:tensorflow:AutoGraph could not transform <function Model.make_train_function.<locals>.train_function at 0x000001C4D8101558> and will run it as-is.\n",
      "Please report this to the TensorFlow team. When filing the bug, set the verbosity to 10 (on Linux, `export AUTOGRAPH_VERBOSITY=10`) and attach the full output.\n",
      "Cause: 'arguments' object has no attribute 'posonlyargs'\n",
      "To silence this warning, decorate the function with @tf.autograph.experimental.do_not_convert\n",
      "WARNING: AutoGraph could not transform <function Model.make_train_function.<locals>.train_function at 0x000001C4D8101558> and will run it as-is.\n",
      "Please report this to the TensorFlow team. When filing the bug, set the verbosity to 10 (on Linux, `export AUTOGRAPH_VERBOSITY=10`) and attach the full output.\n",
      "Cause: 'arguments' object has no attribute 'posonlyargs'\n",
      "To silence this warning, decorate the function with @tf.autograph.experimental.do_not_convert\n",
      "195/196 [============================>.] - ETA: 0s - loss: 1.9788 - accuracy: 0.2659WARNING:tensorflow:AutoGraph could not transform <function Model.make_test_function.<locals>.test_function at 0x000001C4D8883DC8> and will run it as-is.\n",
      "Please report this to the TensorFlow team. When filing the bug, set the verbosity to 10 (on Linux, `export AUTOGRAPH_VERBOSITY=10`) and attach the full output.\n",
      "Cause: 'arguments' object has no attribute 'posonlyargs'\n",
      "To silence this warning, decorate the function with @tf.autograph.experimental.do_not_convert\n",
      "WARNING: AutoGraph could not transform <function Model.make_test_function.<locals>.test_function at 0x000001C4D8883DC8> and will run it as-is.\n",
      "Please report this to the TensorFlow team. When filing the bug, set the verbosity to 10 (on Linux, `export AUTOGRAPH_VERBOSITY=10`) and attach the full output.\n",
      "Cause: 'arguments' object has no attribute 'posonlyargs'\n",
      "To silence this warning, decorate the function with @tf.autograph.experimental.do_not_convert\n",
      "196/196 [==============================] - 5s 25ms/step - loss: 1.9786 - accuracy: 0.2661 - val_loss: 1.7832 - val_accuracy: 0.3477\n",
      "Epoch 2/100\n",
      "196/196 [==============================] - 5s 25ms/step - loss: 1.7526 - accuracy: 0.3664 - val_loss: 1.6997 - val_accuracy: 0.3905\n",
      "Epoch 3/100\n",
      "196/196 [==============================] - 5s 25ms/step - loss: 1.6711 - accuracy: 0.3977 - val_loss: 1.6573 - val_accuracy: 0.4031\n",
      "Epoch 4/100\n",
      "196/196 [==============================] - 6s 30ms/step - loss: 1.6138 - accuracy: 0.4205 - val_loss: 1.5730 - val_accuracy: 0.4413\n",
      "Epoch 5/100\n",
      "196/196 [==============================] - 5s 28ms/step - loss: 1.5617 - accuracy: 0.4377 - val_loss: 1.6355 - val_accuracy: 0.4291\n",
      "Epoch 6/100\n",
      "196/196 [==============================] - 6s 32ms/step - loss: 1.5071 - accuracy: 0.4582 - val_loss: 1.5084 - val_accuracy: 0.4531\n",
      "Epoch 7/100\n",
      "196/196 [==============================] - 6s 29ms/step - loss: 1.4678 - accuracy: 0.4730 - val_loss: 1.5074 - val_accuracy: 0.4644\n",
      "Epoch 8/100\n",
      "196/196 [==============================] - 6s 30ms/step - loss: 1.4375 - accuracy: 0.4847 - val_loss: 1.4520 - val_accuracy: 0.4810\n",
      "Epoch 9/100\n",
      "196/196 [==============================] - 6s 30ms/step - loss: 1.4102 - accuracy: 0.4941 - val_loss: 1.4608 - val_accuracy: 0.4780\n",
      "Epoch 10/100\n",
      "196/196 [==============================] - 6s 29ms/step - loss: 1.3928 - accuracy: 0.5022 - val_loss: 1.4667 - val_accuracy: 0.4843\n",
      "Epoch 11/100\n",
      "196/196 [==============================] - 5s 28ms/step - loss: 1.3602 - accuracy: 0.5150 - val_loss: 1.4107 - val_accuracy: 0.4969\n",
      "Epoch 12/100\n",
      "196/196 [==============================] - 5s 25ms/step - loss: 1.3332 - accuracy: 0.5251 - val_loss: 1.4343 - val_accuracy: 0.4879\n",
      "Epoch 13/100\n",
      "196/196 [==============================] - 5s 25ms/step - loss: 1.3079 - accuracy: 0.5318 - val_loss: 1.4192 - val_accuracy: 0.4990\n",
      "Epoch 14/100\n",
      "196/196 [==============================] - 6s 28ms/step - loss: 1.2858 - accuracy: 0.5412 - val_loss: 1.3679 - val_accuracy: 0.5166\n",
      "Epoch 15/100\n",
      "196/196 [==============================] - 5s 27ms/step - loss: 1.2690 - accuracy: 0.5464 - val_loss: 1.4087 - val_accuracy: 0.5018\n",
      "Epoch 16/100\n",
      "196/196 [==============================] - 5s 27ms/step - loss: 1.2417 - accuracy: 0.5572 - val_loss: 1.3921 - val_accuracy: 0.5087\n",
      "Epoch 17/100\n",
      "196/196 [==============================] - 6s 33ms/step - loss: 1.2312 - accuracy: 0.5568 - val_loss: 1.3753 - val_accuracy: 0.5168\n",
      "Epoch 18/100\n",
      "196/196 [==============================] - 6s 30ms/step - loss: 1.2059 - accuracy: 0.5696 - val_loss: 1.3767 - val_accuracy: 0.5136\n",
      "Epoch 19/100\n",
      "196/196 [==============================] - 5s 26ms/step - loss: 1.1846 - accuracy: 0.5755 - val_loss: 1.4082 - val_accuracy: 0.5171\n",
      "Epoch 20/100\n",
      "196/196 [==============================] - 5s 26ms/step - loss: 1.1692 - accuracy: 0.5831 - val_loss: 1.3837 - val_accuracy: 0.5100\n",
      "Epoch 21/100\n",
      "196/196 [==============================] - 5s 25ms/step - loss: 1.1481 - accuracy: 0.5907 - val_loss: 1.3782 - val_accuracy: 0.5172\n",
      "Epoch 22/100\n",
      "196/196 [==============================] - 5s 25ms/step - loss: 1.1316 - accuracy: 0.5965 - val_loss: 1.3731 - val_accuracy: 0.5194\n",
      "Epoch 23/100\n",
      "196/196 [==============================] - 5s 25ms/step - loss: 1.1041 - accuracy: 0.6048 - val_loss: 1.4133 - val_accuracy: 0.5149\n",
      "Epoch 24/100\n",
      "196/196 [==============================] - 5s 27ms/step - loss: 1.0932 - accuracy: 0.6095 - val_loss: 1.3805 - val_accuracy: 0.5254\n",
      "Epoch 25/100\n",
      "196/196 [==============================] - 5s 26ms/step - loss: 1.0788 - accuracy: 0.6128 - val_loss: 1.4096 - val_accuracy: 0.5120\n",
      "Epoch 26/100\n",
      "196/196 [==============================] - 5s 25ms/step - loss: 1.0530 - accuracy: 0.6228 - val_loss: 1.4080 - val_accuracy: 0.5203\n",
      "Epoch 27/100\n",
      "196/196 [==============================] - 5s 25ms/step - loss: 1.0409 - accuracy: 0.6266 - val_loss: 1.4468 - val_accuracy: 0.5201\n",
      "Epoch 28/100\n",
      "196/196 [==============================] - 5s 25ms/step - loss: 1.0252 - accuracy: 0.6348 - val_loss: 1.3740 - val_accuracy: 0.5323\n",
      "Epoch 29/100\n",
      "196/196 [==============================] - 5s 27ms/step - loss: 1.0088 - accuracy: 0.6391 - val_loss: 1.4261 - val_accuracy: 0.5235\n",
      "Epoch 30/100\n",
      "196/196 [==============================] - 5s 28ms/step - loss: 0.9921 - accuracy: 0.6448 - val_loss: 1.4312 - val_accuracy: 0.5197\n",
      "Epoch 31/100\n",
      "196/196 [==============================] - 5s 27ms/step - loss: 0.9734 - accuracy: 0.6497 - val_loss: 1.4685 - val_accuracy: 0.5209\n",
      "Epoch 32/100\n",
      "196/196 [==============================] - 5s 27ms/step - loss: 0.9472 - accuracy: 0.6646 - val_loss: 1.4386 - val_accuracy: 0.5251\n",
      "Epoch 33/100\n",
      "196/196 [==============================] - 5s 27ms/step - loss: 0.9459 - accuracy: 0.6627 - val_loss: 1.4500 - val_accuracy: 0.5247\n",
      "Epoch 34/100\n",
      "196/196 [==============================] - 6s 31ms/step - loss: 0.9321 - accuracy: 0.6664 - val_loss: 1.4619 - val_accuracy: 0.5227\n",
      "Epoch 35/100\n",
      "196/196 [==============================] - 5s 27ms/step - loss: 0.9126 - accuracy: 0.6733 - val_loss: 1.4961 - val_accuracy: 0.5154\n",
      "Epoch 36/100\n",
      "196/196 [==============================] - 6s 28ms/step - loss: 0.9000 - accuracy: 0.6783 - val_loss: 1.4655 - val_accuracy: 0.5275\n",
      "Epoch 37/100\n",
      "196/196 [==============================] - 6s 33ms/step - loss: 0.8726 - accuracy: 0.6890 - val_loss: 1.4793 - val_accuracy: 0.5176\n",
      "Epoch 38/100\n",
      "196/196 [==============================] - 6s 31ms/step - loss: 0.8624 - accuracy: 0.6911 - val_loss: 1.5164 - val_accuracy: 0.5262\n",
      "Epoch 39/100\n",
      "196/196 [==============================] - 6s 29ms/step - loss: 0.8374 - accuracy: 0.6997 - val_loss: 1.5274 - val_accuracy: 0.5309\n",
      "Epoch 40/100\n",
      "196/196 [==============================] - 6s 31ms/step - loss: 0.8286 - accuracy: 0.7037 - val_loss: 1.5171 - val_accuracy: 0.5312\n",
      "Epoch 41/100\n",
      "196/196 [==============================] - 6s 30ms/step - loss: 0.8151 - accuracy: 0.7105 - val_loss: 1.5847 - val_accuracy: 0.5227\n",
      "Epoch 42/100\n",
      "196/196 [==============================] - 6s 28ms/step - loss: 0.7959 - accuracy: 0.7140 - val_loss: 1.6007 - val_accuracy: 0.5253\n",
      "Epoch 43/100\n",
      "196/196 [==============================] - 5s 27ms/step - loss: 0.7914 - accuracy: 0.7146 - val_loss: 1.6227 - val_accuracy: 0.5082\n",
      "Epoch 44/100\n"
     ]
    },
    {
     "name": "stdout",
     "output_type": "stream",
     "text": [
      "196/196 [==============================] - 5s 27ms/step - loss: 0.7710 - accuracy: 0.7248 - val_loss: 1.6601 - val_accuracy: 0.5127\n",
      "Epoch 45/100\n",
      "196/196 [==============================] - 6s 29ms/step - loss: 0.7722 - accuracy: 0.7230 - val_loss: 1.6380 - val_accuracy: 0.5157\n",
      "Epoch 46/100\n",
      "196/196 [==============================] - 5s 25ms/step - loss: 0.7464 - accuracy: 0.7346 - val_loss: 1.6528 - val_accuracy: 0.5169\n",
      "Epoch 47/100\n",
      "196/196 [==============================] - 5s 25ms/step - loss: 0.7293 - accuracy: 0.7406 - val_loss: 1.6509 - val_accuracy: 0.5194\n",
      "Epoch 48/100\n",
      "196/196 [==============================] - 5s 25ms/step - loss: 0.7210 - accuracy: 0.7426 - val_loss: 1.7090 - val_accuracy: 0.5214\n",
      "Epoch 49/100\n",
      "196/196 [==============================] - 5s 25ms/step - loss: 0.7199 - accuracy: 0.7429 - val_loss: 1.7560 - val_accuracy: 0.5196\n",
      "Epoch 50/100\n",
      "196/196 [==============================] - 5s 25ms/step - loss: 0.7033 - accuracy: 0.7484 - val_loss: 1.6790 - val_accuracy: 0.5287\n",
      "Epoch 51/100\n",
      "196/196 [==============================] - 5s 28ms/step - loss: 0.6837 - accuracy: 0.7545 - val_loss: 1.7625 - val_accuracy: 0.5171\n",
      "Epoch 52/100\n",
      "196/196 [==============================] - 6s 29ms/step - loss: 0.6759 - accuracy: 0.7584 - val_loss: 1.7300 - val_accuracy: 0.5186\n",
      "Epoch 53/100\n",
      "196/196 [==============================] - 5s 28ms/step - loss: 0.6602 - accuracy: 0.7616 - val_loss: 1.8134 - val_accuracy: 0.5172\n",
      "Epoch 54/100\n",
      "196/196 [==============================] - 5s 26ms/step - loss: 0.6580 - accuracy: 0.7648 - val_loss: 1.7772 - val_accuracy: 0.5109\n",
      "Epoch 55/100\n",
      "196/196 [==============================] - 5s 26ms/step - loss: 0.6473 - accuracy: 0.7672 - val_loss: 1.8489 - val_accuracy: 0.5071\n",
      "Epoch 56/100\n",
      "196/196 [==============================] - 5s 24ms/step - loss: 0.6276 - accuracy: 0.7763 - val_loss: 1.8135 - val_accuracy: 0.5189\n",
      "Epoch 57/100\n",
      "196/196 [==============================] - 5s 25ms/step - loss: 0.6091 - accuracy: 0.7825 - val_loss: 1.9118 - val_accuracy: 0.5171\n",
      "Epoch 58/100\n",
      "196/196 [==============================] - 6s 28ms/step - loss: 0.6065 - accuracy: 0.7830 - val_loss: 1.9850 - val_accuracy: 0.5064\n",
      "Epoch 59/100\n",
      "196/196 [==============================] - 6s 28ms/step - loss: 0.6061 - accuracy: 0.7826 - val_loss: 1.9592 - val_accuracy: 0.5150\n",
      "Epoch 60/100\n",
      "196/196 [==============================] - 5s 24ms/step - loss: 0.5880 - accuracy: 0.7897 - val_loss: 1.9553 - val_accuracy: 0.5115\n",
      "Epoch 61/100\n",
      "196/196 [==============================] - 5s 24ms/step - loss: 0.5790 - accuracy: 0.7931 - val_loss: 1.9552 - val_accuracy: 0.5207\n",
      "Epoch 62/100\n",
      "196/196 [==============================] - 5s 28ms/step - loss: 0.5786 - accuracy: 0.7914 - val_loss: 2.0581 - val_accuracy: 0.5090\n",
      "Epoch 63/100\n",
      "196/196 [==============================] - 5s 28ms/step - loss: 0.5745 - accuracy: 0.7924 - val_loss: 2.0990 - val_accuracy: 0.5070\n",
      "Epoch 64/100\n",
      "196/196 [==============================] - 6s 29ms/step - loss: 0.5416 - accuracy: 0.8054 - val_loss: 2.1237 - val_accuracy: 0.5103\n",
      "Epoch 65/100\n",
      "196/196 [==============================] - 5s 27ms/step - loss: 0.5635 - accuracy: 0.7984 - val_loss: 2.0489 - val_accuracy: 0.5164\n",
      "Epoch 66/100\n",
      "196/196 [==============================] - 5s 26ms/step - loss: 0.5387 - accuracy: 0.8075 - val_loss: 2.1639 - val_accuracy: 0.4981\n",
      "Epoch 67/100\n",
      "196/196 [==============================] - 5s 27ms/step - loss: 0.5225 - accuracy: 0.8130 - val_loss: 2.1499 - val_accuracy: 0.5153\n",
      "Epoch 68/100\n",
      "196/196 [==============================] - 5s 25ms/step - loss: 0.5042 - accuracy: 0.8191 - val_loss: 2.1381 - val_accuracy: 0.5033\n",
      "Epoch 69/100\n",
      "196/196 [==============================] - 5s 24ms/step - loss: 0.5240 - accuracy: 0.8111 - val_loss: 2.1544 - val_accuracy: 0.5106\n",
      "Epoch 70/100\n",
      "196/196 [==============================] - 5s 25ms/step - loss: 0.4934 - accuracy: 0.8215 - val_loss: 2.2196 - val_accuracy: 0.5102\n",
      "Epoch 71/100\n",
      "196/196 [==============================] - 5s 24ms/step - loss: 0.5172 - accuracy: 0.8132 - val_loss: 2.1806 - val_accuracy: 0.5083\n",
      "Epoch 72/100\n",
      "196/196 [==============================] - 5s 26ms/step - loss: 0.4932 - accuracy: 0.8223 - val_loss: 2.2852 - val_accuracy: 0.5036\n",
      "Epoch 73/100\n",
      "196/196 [==============================] - 6s 30ms/step - loss: 0.4883 - accuracy: 0.8253 - val_loss: 2.2923 - val_accuracy: 0.5085\n",
      "Epoch 74/100\n",
      "196/196 [==============================] - 6s 32ms/step - loss: 0.4688 - accuracy: 0.8341 - val_loss: 2.2678 - val_accuracy: 0.5101\n",
      "Epoch 75/100\n",
      "196/196 [==============================] - 6s 32ms/step - loss: 0.4735 - accuracy: 0.8300 - val_loss: 2.3811 - val_accuracy: 0.5033\n",
      "Epoch 76/100\n",
      "196/196 [==============================] - 6s 30ms/step - loss: 0.4510 - accuracy: 0.8390 - val_loss: 2.4144 - val_accuracy: 0.5118\n",
      "Epoch 77/100\n",
      "196/196 [==============================] - 5s 25ms/step - loss: 0.4722 - accuracy: 0.8313 - val_loss: 2.4334 - val_accuracy: 0.5039\n",
      "Epoch 78/100\n",
      "196/196 [==============================] - 6s 31ms/step - loss: 0.4626 - accuracy: 0.8322 - val_loss: 2.4664 - val_accuracy: 0.5018\n",
      "Epoch 79/100\n",
      "196/196 [==============================] - 5s 26ms/step - loss: 0.4649 - accuracy: 0.8352 - val_loss: 2.3241 - val_accuracy: 0.5104\n",
      "Epoch 80/100\n",
      "196/196 [==============================] - 5s 26ms/step - loss: 0.4429 - accuracy: 0.8402 - val_loss: 2.4271 - val_accuracy: 0.5069\n",
      "Epoch 81/100\n",
      "196/196 [==============================] - 5s 28ms/step - loss: 0.4242 - accuracy: 0.8477 - val_loss: 2.4995 - val_accuracy: 0.5002\n",
      "Epoch 82/100\n",
      "196/196 [==============================] - 5s 26ms/step - loss: 0.4292 - accuracy: 0.8463 - val_loss: 2.5397 - val_accuracy: 0.5059\n",
      "Epoch 83/100\n",
      "196/196 [==============================] - 5s 25ms/step - loss: 0.4150 - accuracy: 0.8517 - val_loss: 2.5427 - val_accuracy: 0.5034\n",
      "Epoch 84/100\n",
      "196/196 [==============================] - 5s 24ms/step - loss: 0.4239 - accuracy: 0.8502 - val_loss: 2.5510 - val_accuracy: 0.5068\n",
      "Epoch 85/100\n",
      "196/196 [==============================] - 5s 25ms/step - loss: 0.4301 - accuracy: 0.8461 - val_loss: 2.5876 - val_accuracy: 0.4981\n",
      "Epoch 86/100\n",
      "196/196 [==============================] - 5s 27ms/step - loss: 0.4311 - accuracy: 0.8452 - val_loss: 2.5257 - val_accuracy: 0.5133\n",
      "Epoch 87/100\n",
      "196/196 [==============================] - 6s 29ms/step - loss: 0.4103 - accuracy: 0.8526 - val_loss: 2.5794 - val_accuracy: 0.5005\n",
      "Epoch 88/100\n",
      "196/196 [==============================] - 5s 25ms/step - loss: 0.3828 - accuracy: 0.8641 - val_loss: 2.7304 - val_accuracy: 0.5042\n",
      "Epoch 89/100\n",
      "196/196 [==============================] - 5s 27ms/step - loss: 0.3872 - accuracy: 0.8611 - val_loss: 2.6970 - val_accuracy: 0.5062\n",
      "Epoch 90/100\n",
      "196/196 [==============================] - 5s 25ms/step - loss: 0.3924 - accuracy: 0.8613 - val_loss: 2.7580 - val_accuracy: 0.5000\n",
      "Epoch 91/100\n",
      "196/196 [==============================] - 5s 26ms/step - loss: 0.3947 - accuracy: 0.8588 - val_loss: 2.6963 - val_accuracy: 0.5094\n",
      "Epoch 92/100\n",
      "196/196 [==============================] - 5s 28ms/step - loss: 0.4205 - accuracy: 0.8480 - val_loss: 2.6991 - val_accuracy: 0.4946\n",
      "Epoch 93/100\n",
      "196/196 [==============================] - 5s 25ms/step - loss: 0.3751 - accuracy: 0.8651 - val_loss: 2.7539 - val_accuracy: 0.5045\n",
      "Epoch 94/100\n",
      "196/196 [==============================] - 5s 24ms/step - loss: 0.3643 - accuracy: 0.8694 - val_loss: 2.9187 - val_accuracy: 0.5072\n",
      "Epoch 95/100\n",
      "196/196 [==============================] - 5s 25ms/step - loss: 0.3612 - accuracy: 0.8705 - val_loss: 2.7977 - val_accuracy: 0.5064\n",
      "Epoch 96/100\n",
      "196/196 [==============================] - 5s 26ms/step - loss: 0.3736 - accuracy: 0.8652 - val_loss: 2.7279 - val_accuracy: 0.5062\n",
      "Epoch 97/100\n",
      "196/196 [==============================] - 5s 24ms/step - loss: 0.3684 - accuracy: 0.8671 - val_loss: 2.8405 - val_accuracy: 0.5053\n",
      "Epoch 98/100\n",
      "196/196 [==============================] - 5s 25ms/step - loss: 0.3494 - accuracy: 0.8744 - val_loss: 2.9144 - val_accuracy: 0.5019\n",
      "Epoch 99/100\n",
      "196/196 [==============================] - 5s 23ms/step - loss: 0.3601 - accuracy: 0.8706 - val_loss: 2.9053 - val_accuracy: 0.4974\n",
      "Epoch 100/100\n"
     ]
    },
    {
     "name": "stdout",
     "output_type": "stream",
     "text": [
      "196/196 [==============================] - 5s 24ms/step - loss: 0.3675 - accuracy: 0.8680 - val_loss: 2.9186 - val_accuracy: 0.4999\n"
     ]
    },
    {
     "data": {
      "text/plain": [
       "<tensorflow.python.keras.callbacks.History at 0x1c4d8121448>"
      ]
     },
     "execution_count": 9,
     "metadata": {},
     "output_type": "execute_result"
    }
   ],
   "source": [
    "model.fit(x_train, y_train, \n",
    "          epochs=EPOCHS, \n",
    "          batch_size=BATCH_SIZE, \n",
    "          validation_data=(x_test, y_test), \n",
    "          shuffle=True)"
   ]
  },
  {
   "cell_type": "code",
   "execution_count": 11,
   "metadata": {},
   "outputs": [
    {
     "data": {
      "image/png": "[encoded data removed]",
      "text/plain": [
       "<Figure size 432x288 with 1 Axes>"
      ]
     },
     "metadata": {
      "needs_background": "light"
     },
     "output_type": "display_data"
    },
    {
     "data": {
      "image/png": "[encoded data removed]",
      "text/plain": [
       "<Figure size 432x288 with 1 Axes>"
      ]
     },
     "metadata": {
      "needs_background": "light"
     },
     "output_type": "display_data"
    }
   ],
   "source": [
    "import matplotlib.pyplot as plt\n",
    "\n",
    "\n",
    "train_loss = model.history.history[\"loss\"]\n",
    "valid_loss = model.history.history[\"val_loss\"]\n",
    "\n",
    "train_acc = model.history.history[\"accuracy\"]\n",
    "valid_acc = model.history.history[\"val_accuracy\"]\n",
    "\n",
    "plt.plot(range(len(train_loss)), train_loss, label=\"train loss\")\n",
    "plt.plot(range(len(valid_loss)), valid_loss, label=\"valid loss\")\n",
    "plt.legend()\n",
    "plt.title(\"Loss\")\n",
    "plt.show()\n",
    "\n",
    "plt.plot(range(len(train_acc)), train_acc, label=\"train accuracy\")\n",
    "plt.plot(range(len(valid_acc)), valid_acc, label=\"valid accuracy\")\n",
    "plt.legend()\n",
    "plt.title(\"Accuracy\")\n",
    "plt.show()"
   ]
  },
  {
   "cell_type": "code",
   "execution_count": null,
   "metadata": {},
   "outputs": [],
   "source": []
  }
 ],
 "metadata": {
  "kernelspec": {
   "display_name": "Python 3",
   "language": "python",
   "name": "python3"
  },
  "language_info": {
   "codemirror_mode": {
    "name": "ipython",
    "version": 3
   },
   "file_extension": ".py",
   "mimetype": "text/x-python",
   "name": "python",
   "nbconvert_exporter": "python",
   "pygments_lexer": "ipython3",
   "version": "3.7.7"
  }
 },
 "nbformat": 4,
 "nbformat_minor": 2
}
