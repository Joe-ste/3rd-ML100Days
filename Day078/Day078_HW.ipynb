{
 "cells": [
  {
   "cell_type": "markdown",
   "metadata": {},
   "source": [
    "## Work\n",
    "1. 請嘗試將 preproc_x 替換成以每筆資料的 min/max 進行標準化至 -1 ~ 1 間，再進行訓練\n",
    "2. 請嘗試將 mlp 疊更深 (e.g 5~10 層)，進行訓練後觀察 learning curve 的走勢\n",
    "3. (optional) 請改用 GPU 進行訓練 (如果你有 GPU 的話)，比較使用 CPU 與 GPU 的訓練速度"
   ]
  },
  {
   "cell_type": "code",
   "execution_count": 1,
   "metadata": {},
   "outputs": [
    {
     "data": {
      "text/plain": [
       "'\\nYour code here (optional)\\n確認硬體資源\\n'"
      ]
     },
     "execution_count": 1,
     "metadata": {},
     "output_type": "execute_result"
    }
   ],
   "source": [
    "## \n",
    "\"\"\"\n",
    "Your code here (optional)\n",
    "確認硬體資源\n",
    "\"\"\"\n"
   ]
  },
  {
   "cell_type": "code",
   "execution_count": 2,
   "metadata": {},
   "outputs": [],
   "source": [
    "import os\n",
    "import keras\n",
    "\n",
    "# 請嘗試設定 GPU：os.environ\n"
   ]
  },
  {
   "cell_type": "code",
   "execution_count": 3,
   "metadata": {},
   "outputs": [],
   "source": [
    "train, test = keras.datasets.cifar10.load_data()"
   ]
  },
  {
   "cell_type": "code",
   "execution_count": 4,
   "metadata": {},
   "outputs": [],
   "source": [
    "## 資料前處理\n",
    "\"\"\"\n",
    "Your code here\n",
    "\"\"\"\n",
    "def preproc_x(x, flatten=True):\n",
    "    x = 2*(x-x.min())/(x.max() - x.min()) - 1\n",
    "    if flatten:\n",
    "        x = x.reshape((len(x), -1))\n",
    "    return x\n",
    "def preproc_y(y, num_classes=10):\n",
    "    if y.shape[-1] == 1:\n",
    "        y = keras.utils.to_categorical(y, num_classes)\n",
    "    return y"
   ]
  },
  {
   "cell_type": "code",
   "execution_count": 5,
   "metadata": {},
   "outputs": [],
   "source": [
    "x_train, y_train = train\n",
    "x_test, y_test = test\n",
    "\n",
    "# Preproc the inputs\n",
    "x_train = preproc_x(x_train)\n",
    "x_test = preproc_x(x_test)\n",
    "\n",
    "# Preprc the outputs\n",
    "y_train = preproc_y(y_train)\n",
    "y_test = preproc_y(y_test)"
   ]
  },
  {
   "cell_type": "code",
   "execution_count": 6,
   "metadata": {},
   "outputs": [
    {
     "name": "stdout",
     "output_type": "stream",
     "text": [
      "Model: \"functional_1\"\n",
      "_________________________________________________________________\n",
      "Layer (type)                 Output Shape              Param #   \n",
      "=================================================================\n",
      "input_1 (InputLayer)         [(None, 3072)]            0         \n",
      "_________________________________________________________________\n",
      "hidden_layer1 (Dense)        (None, 512)               1573376   \n",
      "_________________________________________________________________\n",
      "hidden_layer2 (Dense)        (None, 256)               131328    \n",
      "_________________________________________________________________\n",
      "hidden_layer3 (Dense)        (None, 128)               32896     \n",
      "_________________________________________________________________\n",
      "hidden_layer4 (Dense)        (None, 64)                8256      \n",
      "_________________________________________________________________\n",
      "hidden_layer5 (Dense)        (None, 32)                2080      \n",
      "_________________________________________________________________\n",
      "output (Dense)               (None, 10)                330       \n",
      "=================================================================\n",
      "Total params: 1,748,266\n",
      "Trainable params: 1,748,266\n",
      "Non-trainable params: 0\n",
      "_________________________________________________________________\n"
     ]
    }
   ],
   "source": [
    "\"\"\"Code Here\n",
    "建立你的神經網路\n",
    "\"\"\"\n",
    "def build_mlp(input_shape, output_units=10, num_neurons=[512, 256, 128, 64, 32]):\n",
    "    input_layers = keras.layers.Input(input_shape)\n",
    "    for i, n_units in enumerate(num_neurons):\n",
    "        if i==0:\n",
    "            x = keras.layers.Dense(units=n_units, activation=\"relu\", name=\"hidden_layer\"+str(i+1))(input_layers)\n",
    "        else:\n",
    "            x = keras.layers.Dense(units=n_units, activation=\"relu\", name=\"hidden_layer\"+str(i+1))(x)\n",
    "    out = keras.layers.Dense(units=output_units, activation=\"softmax\", name=\"output\")(x)\n",
    "    model = keras.models.Model(inputs=[input_layers], outputs=[out])\n",
    "    return model\n",
    "model = build_mlp(input_shape=x_train.shape[1:])\n",
    "model.summary()"
   ]
  },
  {
   "cell_type": "code",
   "execution_count": 7,
   "metadata": {},
   "outputs": [],
   "source": [
    "## 超參數設定\n",
    "LEARNING_RATE = 0.001\n",
    "EPOCHS = 100\n",
    "BATCH_SIZE = 256"
   ]
  },
  {
   "cell_type": "code",
   "execution_count": 8,
   "metadata": {},
   "outputs": [],
   "source": [
    "optimizer = keras.optimizers.Adam(lr=LEARNING_RATE)\n",
    "model.compile(loss=\"categorical_crossentropy\", metrics=[\"accuracy\"], optimizer=optimizer)"
   ]
  },
  {
   "cell_type": "code",
   "execution_count": 9,
   "metadata": {},
   "outputs": [
    {
     "name": "stdout",
     "output_type": "stream",
     "text": [
      "Epoch 1/100\n",
      "WARNING:tensorflow:AutoGraph could not transform <function Model.make_train_function.<locals>.train_function at 0x0000019275271678> and will run it as-is.\n",
      "Please report this to the TensorFlow team. When filing the bug, set the verbosity to 10 (on Linux, `export AUTOGRAPH_VERBOSITY=10`) and attach the full output.\n",
      "Cause: 'arguments' object has no attribute 'posonlyargs'\n",
      "To silence this warning, decorate the function with @tf.autograph.experimental.do_not_convert\n",
      "WARNING: AutoGraph could not transform <function Model.make_train_function.<locals>.train_function at 0x0000019275271678> and will run it as-is.\n",
      "Please report this to the TensorFlow team. When filing the bug, set the verbosity to 10 (on Linux, `export AUTOGRAPH_VERBOSITY=10`) and attach the full output.\n",
      "Cause: 'arguments' object has no attribute 'posonlyargs'\n",
      "To silence this warning, decorate the function with @tf.autograph.experimental.do_not_convert\n",
      "194/196 [============================>.] - ETA: 0s - loss: 2.2658 - accuracy: 0.1386WARNING:tensorflow:AutoGraph could not transform <function Model.make_test_function.<locals>.test_function at 0x00000192753DF708> and will run it as-is.\n",
      "Please report this to the TensorFlow team. When filing the bug, set the verbosity to 10 (on Linux, `export AUTOGRAPH_VERBOSITY=10`) and attach the full output.\n",
      "Cause: 'arguments' object has no attribute 'posonlyargs'\n",
      "To silence this warning, decorate the function with @tf.autograph.experimental.do_not_convert\n",
      "WARNING: AutoGraph could not transform <function Model.make_test_function.<locals>.test_function at 0x00000192753DF708> and will run it as-is.\n",
      "Please report this to the TensorFlow team. When filing the bug, set the verbosity to 10 (on Linux, `export AUTOGRAPH_VERBOSITY=10`) and attach the full output.\n",
      "Cause: 'arguments' object has no attribute 'posonlyargs'\n",
      "To silence this warning, decorate the function with @tf.autograph.experimental.do_not_convert\n",
      "196/196 [==============================] - 5s 24ms/step - loss: 2.2656 - accuracy: 0.1388 - val_loss: 2.1901 - val_accuracy: 0.1825\n",
      "Epoch 2/100\n",
      "196/196 [==============================] - 5s 23ms/step - loss: 2.1579 - accuracy: 0.1979 - val_loss: 2.1605 - val_accuracy: 0.1990\n",
      "Epoch 3/100\n",
      "196/196 [==============================] - 4s 22ms/step - loss: 2.0962 - accuracy: 0.2298 - val_loss: 2.1006 - val_accuracy: 0.2249\n",
      "Epoch 4/100\n",
      "196/196 [==============================] - 5s 24ms/step - loss: 2.0360 - accuracy: 0.2572 - val_loss: 2.0501 - val_accuracy: 0.2464\n",
      "Epoch 5/100\n",
      "196/196 [==============================] - 5s 24ms/step - loss: 1.9906 - accuracy: 0.2763 - val_loss: 2.0259 - val_accuracy: 0.2635\n",
      "Epoch 6/100\n",
      "196/196 [==============================] - 5s 25ms/step - loss: 1.9561 - accuracy: 0.2910 - val_loss: 2.0303 - val_accuracy: 0.2570\n",
      "Epoch 7/100\n",
      "196/196 [==============================] - 6s 28ms/step - loss: 1.9283 - accuracy: 0.3025 - val_loss: 1.9924 - val_accuracy: 0.2751\n",
      "Epoch 8/100\n",
      "196/196 [==============================] - 5s 25ms/step - loss: 1.8949 - accuracy: 0.3159 - val_loss: 1.9608 - val_accuracy: 0.2860\n",
      "Epoch 9/100\n",
      "196/196 [==============================] - 5s 25ms/step - loss: 1.8672 - accuracy: 0.3289 - val_loss: 1.9773 - val_accuracy: 0.2926\n",
      "Epoch 10/100\n",
      "196/196 [==============================] - 5s 24ms/step - loss: 1.8321 - accuracy: 0.3422 - val_loss: 1.9877 - val_accuracy: 0.2739\n",
      "Epoch 11/100\n",
      "196/196 [==============================] - 5s 24ms/step - loss: 1.8088 - accuracy: 0.3472 - val_loss: 1.9536 - val_accuracy: 0.2990\n",
      "Epoch 12/100\n",
      "196/196 [==============================] - 5s 24ms/step - loss: 1.7695 - accuracy: 0.3653 - val_loss: 1.9629 - val_accuracy: 0.2922\n",
      "Epoch 13/100\n",
      "196/196 [==============================] - 5s 27ms/step - loss: 1.7380 - accuracy: 0.3769 - val_loss: 1.9517 - val_accuracy: 0.3047\n",
      "Epoch 14/100\n",
      "196/196 [==============================] - 5s 25ms/step - loss: 1.7135 - accuracy: 0.3853 - val_loss: 2.0185 - val_accuracy: 0.2934\n",
      "Epoch 15/100\n",
      "196/196 [==============================] - 5s 26ms/step - loss: 1.6928 - accuracy: 0.3933 - val_loss: 1.9992 - val_accuracy: 0.3037\n",
      "Epoch 16/100\n",
      "196/196 [==============================] - 5s 26ms/step - loss: 1.6435 - accuracy: 0.4118 - val_loss: 2.0109 - val_accuracy: 0.3012\n",
      "Epoch 17/100\n",
      "196/196 [==============================] - 5s 27ms/step - loss: 1.6072 - accuracy: 0.4253 - val_loss: 1.9843 - val_accuracy: 0.3093\n",
      "Epoch 18/100\n",
      "196/196 [==============================] - 5s 27ms/step - loss: 1.5781 - accuracy: 0.4349 - val_loss: 2.0850 - val_accuracy: 0.2892\n",
      "Epoch 19/100\n",
      "196/196 [==============================] - 5s 26ms/step - loss: 1.5457 - accuracy: 0.4469 - val_loss: 2.0228 - val_accuracy: 0.3075\n",
      "Epoch 20/100\n",
      "196/196 [==============================] - 5s 25ms/step - loss: 1.5140 - accuracy: 0.4592 - val_loss: 2.0710 - val_accuracy: 0.2975\n",
      "Epoch 21/100\n",
      "196/196 [==============================] - 5s 25ms/step - loss: 1.4856 - accuracy: 0.4703 - val_loss: 2.0855 - val_accuracy: 0.3037\n",
      "Epoch 22/100\n",
      "196/196 [==============================] - 5s 26ms/step - loss: 1.4457 - accuracy: 0.4840 - val_loss: 2.0878 - val_accuracy: 0.3060\n",
      "Epoch 23/100\n",
      "196/196 [==============================] - 5s 25ms/step - loss: 1.4013 - accuracy: 0.4995 - val_loss: 2.1990 - val_accuracy: 0.3008\n",
      "Epoch 24/100\n",
      "196/196 [==============================] - 5s 26ms/step - loss: 1.3810 - accuracy: 0.5047 - val_loss: 2.1501 - val_accuracy: 0.3043\n",
      "Epoch 25/100\n",
      "196/196 [==============================] - 5s 25ms/step - loss: 1.3459 - accuracy: 0.5191 - val_loss: 2.2024 - val_accuracy: 0.3119\n",
      "Epoch 26/100\n",
      "196/196 [==============================] - 5s 25ms/step - loss: 1.2993 - accuracy: 0.5334 - val_loss: 2.2189 - val_accuracy: 0.3067\n",
      "Epoch 27/100\n",
      "196/196 [==============================] - 5s 25ms/step - loss: 1.2677 - accuracy: 0.5495 - val_loss: 2.2870 - val_accuracy: 0.2965\n",
      "Epoch 28/100\n",
      "196/196 [==============================] - 5s 25ms/step - loss: 1.2285 - accuracy: 0.5599 - val_loss: 2.4438 - val_accuracy: 0.2910\n",
      "Epoch 29/100\n",
      "196/196 [==============================] - 5s 25ms/step - loss: 1.1956 - accuracy: 0.5733 - val_loss: 2.3577 - val_accuracy: 0.2968\n",
      "Epoch 30/100\n",
      "196/196 [==============================] - 5s 27ms/step - loss: 1.1623 - accuracy: 0.5837 - val_loss: 2.4538 - val_accuracy: 0.2892\n",
      "Epoch 31/100\n",
      "196/196 [==============================] - 5s 27ms/step - loss: 1.1254 - accuracy: 0.5963 - val_loss: 2.5025 - val_accuracy: 0.2962\n",
      "Epoch 32/100\n",
      "196/196 [==============================] - 6s 28ms/step - loss: 1.0989 - accuracy: 0.6060 - val_loss: 2.5550 - val_accuracy: 0.3001\n",
      "Epoch 33/100\n",
      "196/196 [==============================] - 6s 32ms/step - loss: 1.0753 - accuracy: 0.6147 - val_loss: 2.4994 - val_accuracy: 0.3002\n",
      "Epoch 34/100\n",
      "196/196 [==============================] - 6s 30ms/step - loss: 1.0384 - accuracy: 0.6286 - val_loss: 2.5697 - val_accuracy: 0.2967\n",
      "Epoch 35/100\n",
      "196/196 [==============================] - 6s 30ms/step - loss: 1.0253 - accuracy: 0.6298 - val_loss: 2.7322 - val_accuracy: 0.2966\n",
      "Epoch 36/100\n",
      "196/196 [==============================] - 5s 28ms/step - loss: 0.9722 - accuracy: 0.6531 - val_loss: 2.8043 - val_accuracy: 0.2820\n",
      "Epoch 37/100\n",
      "196/196 [==============================] - 5s 27ms/step - loss: 0.9401 - accuracy: 0.6626 - val_loss: 2.9090 - val_accuracy: 0.2943\n",
      "Epoch 38/100\n",
      "196/196 [==============================] - 5s 27ms/step - loss: 0.9077 - accuracy: 0.6732 - val_loss: 2.9643 - val_accuracy: 0.2959\n",
      "Epoch 39/100\n",
      "196/196 [==============================] - 6s 29ms/step - loss: 0.8721 - accuracy: 0.6877 - val_loss: 3.0090 - val_accuracy: 0.2921\n",
      "Epoch 40/100\n",
      "196/196 [==============================] - 5s 28ms/step - loss: 0.8663 - accuracy: 0.6841 - val_loss: 3.0837 - val_accuracy: 0.2928\n",
      "Epoch 41/100\n",
      "196/196 [==============================] - 5s 28ms/step - loss: 0.8368 - accuracy: 0.6995 - val_loss: 3.2314 - val_accuracy: 0.2912\n",
      "Epoch 42/100\n",
      "196/196 [==============================] - 5s 25ms/step - loss: 0.8083 - accuracy: 0.7104 - val_loss: 3.3584 - val_accuracy: 0.2881\n",
      "Epoch 43/100\n",
      "196/196 [==============================] - 5s 26ms/step - loss: 0.7757 - accuracy: 0.7227 - val_loss: 3.3125 - val_accuracy: 0.2894\n",
      "Epoch 44/100\n"
     ]
    },
    {
     "name": "stdout",
     "output_type": "stream",
     "text": [
      "196/196 [==============================] - 5s 26ms/step - loss: 0.7622 - accuracy: 0.7245 - val_loss: 3.3477 - val_accuracy: 0.2888\n",
      "Epoch 45/100\n",
      "196/196 [==============================] - 5s 27ms/step - loss: 0.7245 - accuracy: 0.7397 - val_loss: 3.5535 - val_accuracy: 0.2847\n",
      "Epoch 46/100\n",
      "196/196 [==============================] - 5s 26ms/step - loss: 0.7083 - accuracy: 0.7435 - val_loss: 3.5112 - val_accuracy: 0.2807\n",
      "Epoch 47/100\n",
      "196/196 [==============================] - 5s 26ms/step - loss: 0.7084 - accuracy: 0.7458 - val_loss: 3.6948 - val_accuracy: 0.2829\n",
      "Epoch 48/100\n",
      "196/196 [==============================] - 5s 24ms/step - loss: 0.6644 - accuracy: 0.7604 - val_loss: 3.6366 - val_accuracy: 0.2832\n",
      "Epoch 49/100\n",
      "196/196 [==============================] - 5s 25ms/step - loss: 0.6373 - accuracy: 0.7724 - val_loss: 3.7779 - val_accuracy: 0.2771\n",
      "Epoch 50/100\n",
      "196/196 [==============================] - 5s 24ms/step - loss: 0.6443 - accuracy: 0.7662 - val_loss: 3.8499 - val_accuracy: 0.2864\n",
      "Epoch 51/100\n",
      "196/196 [==============================] - 5s 25ms/step - loss: 0.6002 - accuracy: 0.7833 - val_loss: 4.2319 - val_accuracy: 0.2752\n",
      "Epoch 52/100\n",
      "196/196 [==============================] - 5s 27ms/step - loss: 0.6065 - accuracy: 0.7809 - val_loss: 4.0781 - val_accuracy: 0.2765\n",
      "Epoch 53/100\n",
      "196/196 [==============================] - 5s 28ms/step - loss: 0.5831 - accuracy: 0.7904 - val_loss: 3.9526 - val_accuracy: 0.2802\n",
      "Epoch 54/100\n",
      "196/196 [==============================] - 5s 27ms/step - loss: 0.5678 - accuracy: 0.7945 - val_loss: 4.2830 - val_accuracy: 0.2825\n",
      "Epoch 55/100\n",
      "196/196 [==============================] - 5s 27ms/step - loss: 0.5567 - accuracy: 0.7983 - val_loss: 4.3621 - val_accuracy: 0.2813\n",
      "Epoch 56/100\n",
      "196/196 [==============================] - 5s 28ms/step - loss: 0.5567 - accuracy: 0.7980 - val_loss: 4.3124 - val_accuracy: 0.2849\n",
      "Epoch 57/100\n",
      "196/196 [==============================] - 5s 27ms/step - loss: 0.5237 - accuracy: 0.8128 - val_loss: 4.4285 - val_accuracy: 0.2796\n",
      "Epoch 58/100\n",
      "196/196 [==============================] - 5s 26ms/step - loss: 0.4614 - accuracy: 0.8351 - val_loss: 4.5839 - val_accuracy: 0.2800\n",
      "Epoch 59/100\n",
      "196/196 [==============================] - 5s 25ms/step - loss: 0.5177 - accuracy: 0.8125 - val_loss: 4.8170 - val_accuracy: 0.2790\n",
      "Epoch 60/100\n",
      "196/196 [==============================] - 5s 24ms/step - loss: 0.4960 - accuracy: 0.8205 - val_loss: 4.4363 - val_accuracy: 0.2847\n",
      "Epoch 61/100\n",
      "196/196 [==============================] - 5s 24ms/step - loss: 0.4876 - accuracy: 0.8249 - val_loss: 4.9755 - val_accuracy: 0.2782\n",
      "Epoch 62/100\n",
      "196/196 [==============================] - 5s 24ms/step - loss: 0.4337 - accuracy: 0.8430 - val_loss: 4.9194 - val_accuracy: 0.2718\n",
      "Epoch 63/100\n",
      "196/196 [==============================] - 5s 24ms/step - loss: 0.4085 - accuracy: 0.8547 - val_loss: 5.0181 - val_accuracy: 0.2799\n",
      "Epoch 64/100\n",
      "196/196 [==============================] - 5s 28ms/step - loss: 0.4438 - accuracy: 0.8412 - val_loss: 5.3183 - val_accuracy: 0.2716\n",
      "Epoch 65/100\n",
      "196/196 [==============================] - 6s 29ms/step - loss: 0.4365 - accuracy: 0.8434 - val_loss: 5.0969 - val_accuracy: 0.2745\n",
      "Epoch 66/100\n",
      "196/196 [==============================] - 5s 27ms/step - loss: 0.4263 - accuracy: 0.8476 - val_loss: 5.2284 - val_accuracy: 0.2726\n",
      "Epoch 67/100\n",
      "196/196 [==============================] - 5s 26ms/step - loss: 0.4367 - accuracy: 0.8431 - val_loss: 5.0715 - val_accuracy: 0.2794\n",
      "Epoch 68/100\n",
      "196/196 [==============================] - 5s 27ms/step - loss: 0.3758 - accuracy: 0.8679 - val_loss: 5.0578 - val_accuracy: 0.2698\n",
      "Epoch 69/100\n",
      "196/196 [==============================] - 5s 26ms/step - loss: 0.3982 - accuracy: 0.8572 - val_loss: 5.4912 - val_accuracy: 0.2777\n",
      "Epoch 70/100\n",
      "196/196 [==============================] - 5s 26ms/step - loss: 0.3539 - accuracy: 0.8740 - val_loss: 5.6477 - val_accuracy: 0.2762\n",
      "Epoch 71/100\n",
      "196/196 [==============================] - 5s 25ms/step - loss: 0.3931 - accuracy: 0.8606 - val_loss: 5.7241 - val_accuracy: 0.2796\n",
      "Epoch 72/100\n",
      "196/196 [==============================] - 5s 25ms/step - loss: 0.3852 - accuracy: 0.8628 - val_loss: 5.5970 - val_accuracy: 0.2744\n",
      "Epoch 73/100\n",
      "196/196 [==============================] - 5s 25ms/step - loss: 0.3696 - accuracy: 0.8702 - val_loss: 5.8171 - val_accuracy: 0.2657\n",
      "Epoch 74/100\n",
      "196/196 [==============================] - 5s 24ms/step - loss: 0.4022 - accuracy: 0.8574 - val_loss: 5.6831 - val_accuracy: 0.2798\n",
      "Epoch 75/100\n",
      "196/196 [==============================] - 5s 24ms/step - loss: 0.3079 - accuracy: 0.8913 - val_loss: 5.6417 - val_accuracy: 0.2772\n",
      "Epoch 76/100\n",
      "196/196 [==============================] - 5s 26ms/step - loss: 0.3145 - accuracy: 0.8900 - val_loss: 6.3347 - val_accuracy: 0.2715\n",
      "Epoch 77/100\n",
      "196/196 [==============================] - 5s 27ms/step - loss: 0.3288 - accuracy: 0.8840 - val_loss: 5.9636 - val_accuracy: 0.2709\n",
      "Epoch 78/100\n",
      "196/196 [==============================] - 5s 27ms/step - loss: 0.3537 - accuracy: 0.8755 - val_loss: 5.8301 - val_accuracy: 0.2808\n",
      "Epoch 79/100\n",
      "196/196 [==============================] - 5s 26ms/step - loss: 0.3425 - accuracy: 0.8787 - val_loss: 5.9359 - val_accuracy: 0.2686\n",
      "Epoch 80/100\n",
      "196/196 [==============================] - 5s 25ms/step - loss: 0.2998 - accuracy: 0.8962 - val_loss: 6.2516 - val_accuracy: 0.2699\n",
      "Epoch 81/100\n",
      "196/196 [==============================] - 5s 25ms/step - loss: 0.3392 - accuracy: 0.8806 - val_loss: 6.0532 - val_accuracy: 0.2784\n",
      "Epoch 82/100\n",
      "196/196 [==============================] - 5s 26ms/step - loss: 0.3015 - accuracy: 0.8968 - val_loss: 6.3426 - val_accuracy: 0.2794\n",
      "Epoch 83/100\n",
      "196/196 [==============================] - 5s 27ms/step - loss: 0.3031 - accuracy: 0.8921 - val_loss: 6.3198 - val_accuracy: 0.2766\n",
      "Epoch 84/100\n",
      "196/196 [==============================] - 5s 25ms/step - loss: 0.3095 - accuracy: 0.8930 - val_loss: 6.1623 - val_accuracy: 0.2753\n",
      "Epoch 85/100\n",
      "196/196 [==============================] - 5s 25ms/step - loss: 0.2726 - accuracy: 0.9066 - val_loss: 6.5723 - val_accuracy: 0.2775\n",
      "Epoch 86/100\n",
      "196/196 [==============================] - 5s 25ms/step - loss: 0.2968 - accuracy: 0.8968 - val_loss: 6.5209 - val_accuracy: 0.2751\n",
      "Epoch 87/100\n",
      "196/196 [==============================] - 5s 26ms/step - loss: 0.2750 - accuracy: 0.9053 - val_loss: 6.6843 - val_accuracy: 0.2701\n",
      "Epoch 88/100\n",
      "196/196 [==============================] - 5s 25ms/step - loss: 0.2574 - accuracy: 0.9095 - val_loss: 6.6824 - val_accuracy: 0.2764\n",
      "Epoch 89/100\n",
      "196/196 [==============================] - 5s 26ms/step - loss: 0.3478 - accuracy: 0.8824 - val_loss: 6.4196 - val_accuracy: 0.2796\n",
      "Epoch 90/100\n",
      "196/196 [==============================] - 5s 28ms/step - loss: 0.2658 - accuracy: 0.9105 - val_loss: 6.3710 - val_accuracy: 0.2641\n",
      "Epoch 91/100\n",
      "196/196 [==============================] - 5s 27ms/step - loss: 0.2411 - accuracy: 0.9174 - val_loss: 6.8485 - val_accuracy: 0.2745\n",
      "Epoch 92/100\n",
      "196/196 [==============================] - 5s 25ms/step - loss: 0.2861 - accuracy: 0.9016 - val_loss: 6.7958 - val_accuracy: 0.2763\n",
      "Epoch 93/100\n",
      "196/196 [==============================] - 5s 25ms/step - loss: 0.2074 - accuracy: 0.9289 - val_loss: 7.0716 - val_accuracy: 0.2724\n",
      "Epoch 94/100\n",
      "196/196 [==============================] - 5s 25ms/step - loss: 0.2327 - accuracy: 0.9193 - val_loss: 6.9618 - val_accuracy: 0.2759\n",
      "Epoch 95/100\n",
      "196/196 [==============================] - 5s 24ms/step - loss: 0.3221 - accuracy: 0.8909 - val_loss: 6.8331 - val_accuracy: 0.2760\n",
      "Epoch 96/100\n",
      "196/196 [==============================] - 5s 24ms/step - loss: 0.2321 - accuracy: 0.9187 - val_loss: 7.0643 - val_accuracy: 0.2756\n",
      "Epoch 97/100\n",
      "196/196 [==============================] - 5s 25ms/step - loss: 0.2085 - accuracy: 0.9275 - val_loss: 7.2771 - val_accuracy: 0.2698\n",
      "Epoch 98/100\n",
      "196/196 [==============================] - 5s 27ms/step - loss: 0.3200 - accuracy: 0.8904 - val_loss: 6.9599 - val_accuracy: 0.2717\n",
      "Epoch 99/100\n",
      "196/196 [==============================] - 5s 26ms/step - loss: 0.2514 - accuracy: 0.9143 - val_loss: 7.3678 - val_accuracy: 0.2746\n",
      "Epoch 100/100\n"
     ]
    },
    {
     "name": "stdout",
     "output_type": "stream",
     "text": [
      "196/196 [==============================] - 5s 26ms/step - loss: 0.2042 - accuracy: 0.9305 - val_loss: 7.3715 - val_accuracy: 0.2716\n"
     ]
    },
    {
     "data": {
      "text/plain": [
       "<tensorflow.python.keras.callbacks.History at 0x19275290808>"
      ]
     },
     "execution_count": 9,
     "metadata": {},
     "output_type": "execute_result"
    }
   ],
   "source": [
    "model.fit(x_train, y_train, \n",
    "          epochs=EPOCHS, \n",
    "          batch_size=BATCH_SIZE, \n",
    "          validation_data=(x_test, y_test), \n",
    "          shuffle=True)"
   ]
  },
  {
   "cell_type": "code",
   "execution_count": 10,
   "metadata": {},
   "outputs": [
    {
     "data": {
      "image/png": "[encoded data removed]",
      "text/plain": [
       "<Figure size 432x288 with 1 Axes>"
      ]
     },
     "metadata": {
      "needs_background": "light"
     },
     "output_type": "display_data"
    },
    {
     "data": {
      "image/png": "[encoded data removed]",
      "text/plain": [
       "<Figure size 432x288 with 1 Axes>"
      ]
     },
     "metadata": {
      "needs_background": "light"
     },
     "output_type": "display_data"
    }
   ],
   "source": [
    "import matplotlib.pyplot as plt\n",
    "\n",
    "\n",
    "train_loss = model.history.history[\"loss\"]\n",
    "valid_loss = model.history.history[\"val_loss\"]\n",
    "\n",
    "train_acc = model.history.history[\"accuracy\"]\n",
    "valid_acc = model.history.history[\"val_accuracy\"]\n",
    "\n",
    "plt.plot(range(len(train_loss)), train_loss, label=\"train loss\")\n",
    "plt.plot(range(len(valid_loss)), valid_loss, label=\"valid loss\")\n",
    "plt.legend()\n",
    "plt.title(\"Loss\")\n",
    "plt.show()\n",
    "\n",
    "plt.plot(range(len(train_acc)), train_acc, label=\"train accuracy\")\n",
    "plt.plot(range(len(valid_acc)), valid_acc, label=\"valid accuracy\")\n",
    "plt.legend()\n",
    "plt.title(\"Accuracy\")\n",
    "plt.show()"
   ]
  },
  {
   "cell_type": "code",
   "execution_count": null,
   "metadata": {},
   "outputs": [],
   "source": []
  }
 ],
 "metadata": {
  "kernelspec": {
   "display_name": "Python 3",
   "language": "python",
   "name": "python3"
  },
  "language_info": {
   "codemirror_mode": {
    "name": "ipython",
    "version": 3
   },
   "file_extension": ".py",
   "mimetype": "text/x-python",
   "name": "python",
   "nbconvert_exporter": "python",
   "pygments_lexer": "ipython3",
   "version": "3.7.7"
  }
 },
 "nbformat": 4,
 "nbformat_minor": 2
}
