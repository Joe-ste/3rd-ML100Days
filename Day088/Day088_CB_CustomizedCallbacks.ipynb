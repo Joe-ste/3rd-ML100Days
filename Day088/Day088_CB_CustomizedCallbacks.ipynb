{
 "cells": [
  {
   "cell_type": "markdown",
   "metadata": {},
   "source": [
    "## 範例重點\n",
    "* 學習如何在 keras 中加入自定義的 callbacks\n",
    "* 知道 callback function 可以動作的時機"
   ]
  },
  {
   "cell_type": "code",
   "execution_count": 1,
   "metadata": {},
   "outputs": [],
   "source": [
    "import os\n",
    "import keras\n",
    "\n",
    "# 本範例不需使用 GPU, 將 GPU 設定為 \"無\"\n",
    "os.environ[\"CUDA_VISIBLE_DEVICES\"] = \"\""
   ]
  },
  {
   "cell_type": "code",
   "execution_count": 2,
   "metadata": {},
   "outputs": [],
   "source": [
    "train, test = keras.datasets.cifar10.load_data()"
   ]
  },
  {
   "cell_type": "code",
   "execution_count": 3,
   "metadata": {},
   "outputs": [],
   "source": [
    "## 資料前處理\n",
    "def preproc_x(x, flatten=True):\n",
    "    x = x / 255.\n",
    "    if flatten:\n",
    "        x = x.reshape((len(x), -1))\n",
    "    return x\n",
    "\n",
    "def preproc_y(y, num_classes=10):\n",
    "    if y.shape[-1] == 1:\n",
    "        y = keras.utils.to_categorical(y, num_classes)\n",
    "    return y    "
   ]
  },
  {
   "cell_type": "code",
   "execution_count": 4,
   "metadata": {},
   "outputs": [],
   "source": [
    "x_train, y_train = train\n",
    "x_test, y_test = test\n",
    "\n",
    "# 資料前處理 - X 標準化\n",
    "x_train = preproc_x(x_train)\n",
    "x_test = preproc_x(x_test)\n",
    "\n",
    "# 資料前處理 -Y 轉成 onehot\n",
    "y_train = preproc_y(y_train)\n",
    "y_test = preproc_y(y_test)"
   ]
  },
  {
   "cell_type": "code",
   "execution_count": 5,
   "metadata": {},
   "outputs": [],
   "source": [
    "from keras.layers import BatchNormalization\n",
    "\n",
    "\"\"\"\n",
    "建立神經網路，並加入 BN layer\n",
    "\"\"\"\n",
    "def build_mlp(input_shape, output_units=10, num_neurons=[512, 256, 128]):\n",
    "    input_layer = keras.layers.Input(input_shape)\n",
    "    \n",
    "    for i, n_units in enumerate(num_neurons):\n",
    "        if i == 0:\n",
    "            x = keras.layers.Dense(units=n_units, \n",
    "                                   activation=\"relu\", \n",
    "                                   name=\"hidden_layer\"+str(i+1))(input_layer)\n",
    "            x = BatchNormalization()(x)\n",
    "        else:\n",
    "            x = keras.layers.Dense(units=n_units, \n",
    "                                   activation=\"relu\", \n",
    "                                   name=\"hidden_layer\"+str(i+1))(x)\n",
    "            x = BatchNormalization()(x)\n",
    "    \n",
    "    out = keras.layers.Dense(units=output_units, activation=\"softmax\", name=\"output\")(x)\n",
    "    \n",
    "    model = keras.models.Model(inputs=[input_layer], outputs=[out])\n",
    "    return model"
   ]
  },
  {
   "cell_type": "code",
   "execution_count": 6,
   "metadata": {},
   "outputs": [],
   "source": [
    "## 超參數設定\n",
    "LEARNING_RATE = 1e-3\n",
    "EPOCHS = 50\n",
    "BATCH_SIZE = 1024\n",
    "MOMENTUM = 0.95"
   ]
  },
  {
   "cell_type": "code",
   "execution_count": 9,
   "metadata": {},
   "outputs": [],
   "source": [
    "\"\"\"\n",
    "# 載入 Callbacks，撰寫一個 f1 score 的 callback function\n",
    "\"\"\"\n",
    "\n",
    "from keras.callbacks import Callback\n",
    "from sklearn.metrics import f1_score\n",
    "\n",
    "class f1sc(Callback):\n",
    "     \n",
    "    def __init__(self, validation_data=()):\n",
    "        super(Callback, self).__init__()\n",
    "        self.x_val, self.y_val=validation_data\n",
    "    \n",
    "    def on_epoch_end(self, epoch, logs = {}, thres=0.5):\n",
    "        logs = logs or {}\n",
    "        y_true = self.y_val.argmax(axis = 1)\n",
    "        y_pred = self.model.predict(self.x_val)\n",
    "        y_pred = (y_pred[:, 1] >= thres) * 1\n",
    "        \n",
    "        logs[\"val_f1sc\"] = f1_score(y_true = y_true, y_pred = y_pred, average=\"weighted\")\n",
    "\n",
    "log_f1sc = f1sc(validation_data=(x_test, y_test))"
   ]
  },
  {
   "cell_type": "code",
   "execution_count": 10,
   "metadata": {
    "scrolled": true
   },
   "outputs": [
    {
     "name": "stdout",
     "output_type": "stream",
     "text": [
      "Model: \"functional_1\"\n",
      "_________________________________________________________________\n",
      "Layer (type)                 Output Shape              Param #   \n",
      "=================================================================\n",
      "input_1 (InputLayer)         [(None, 3072)]            0         \n",
      "_________________________________________________________________\n",
      "hidden_layer1 (Dense)        (None, 512)               1573376   \n",
      "_________________________________________________________________\n",
      "batch_normalization (BatchNo (None, 512)               2048      \n",
      "_________________________________________________________________\n",
      "hidden_layer2 (Dense)        (None, 256)               131328    \n",
      "_________________________________________________________________\n",
      "batch_normalization_1 (Batch (None, 256)               1024      \n",
      "_________________________________________________________________\n",
      "hidden_layer3 (Dense)        (None, 128)               32896     \n",
      "_________________________________________________________________\n",
      "batch_normalization_2 (Batch (None, 128)               512       \n",
      "_________________________________________________________________\n",
      "output (Dense)               (None, 10)                1290      \n",
      "=================================================================\n",
      "Total params: 1,742,474\n",
      "Trainable params: 1,740,682\n",
      "Non-trainable params: 1,792\n",
      "_________________________________________________________________\n",
      "Epoch 1/50\n",
      "WARNING:tensorflow:AutoGraph could not transform <function Model.make_train_function.<locals>.train_function at 0x000001BE5109BC18> and will run it as-is.\n",
      "Please report this to the TensorFlow team. When filing the bug, set the verbosity to 10 (on Linux, `export AUTOGRAPH_VERBOSITY=10`) and attach the full output.\n",
      "Cause: 'arguments' object has no attribute 'posonlyargs'\n",
      "To silence this warning, decorate the function with @tf.autograph.experimental.do_not_convert\n",
      "WARNING: AutoGraph could not transform <function Model.make_train_function.<locals>.train_function at 0x000001BE5109BC18> and will run it as-is.\n",
      "Please report this to the TensorFlow team. When filing the bug, set the verbosity to 10 (on Linux, `export AUTOGRAPH_VERBOSITY=10`) and attach the full output.\n",
      "Cause: 'arguments' object has no attribute 'posonlyargs'\n",
      "To silence this warning, decorate the function with @tf.autograph.experimental.do_not_convert\n",
      "49/49 [==============================] - ETA: 0s - loss: 2.2474 - accuracy: 0.2646WARNING:tensorflow:AutoGraph could not transform <function Model.make_test_function.<locals>.test_function at 0x000001BE5199C0D8> and will run it as-is.\n",
      "Please report this to the TensorFlow team. When filing the bug, set the verbosity to 10 (on Linux, `export AUTOGRAPH_VERBOSITY=10`) and attach the full output.\n",
      "Cause: 'arguments' object has no attribute 'posonlyargs'\n",
      "To silence this warning, decorate the function with @tf.autograph.experimental.do_not_convert\n",
      "WARNING: AutoGraph could not transform <function Model.make_test_function.<locals>.test_function at 0x000001BE5199C0D8> and will run it as-is.\n",
      "Please report this to the TensorFlow team. When filing the bug, set the verbosity to 10 (on Linux, `export AUTOGRAPH_VERBOSITY=10`) and attach the full output.\n",
      "Cause: 'arguments' object has no attribute 'posonlyargs'\n",
      "To silence this warning, decorate the function with @tf.autograph.experimental.do_not_convert\n",
      "WARNING:tensorflow:AutoGraph could not transform <function Model.make_predict_function.<locals>.predict_function at 0x000001BE519C3A68> and will run it as-is.\n",
      "Please report this to the TensorFlow team. When filing the bug, set the verbosity to 10 (on Linux, `export AUTOGRAPH_VERBOSITY=10`) and attach the full output.\n",
      "Cause: 'arguments' object has no attribute 'posonlyargs'\n",
      "To silence this warning, decorate the function with @tf.autograph.experimental.do_not_convert\n",
      "WARNING: AutoGraph could not transform <function Model.make_predict_function.<locals>.predict_function at 0x000001BE519C3A68> and will run it as-is.\n",
      "Please report this to the TensorFlow team. When filing the bug, set the verbosity to 10 (on Linux, `export AUTOGRAPH_VERBOSITY=10`) and attach the full output.\n",
      "Cause: 'arguments' object has no attribute 'posonlyargs'\n",
      "To silence this warning, decorate the function with @tf.autograph.experimental.do_not_convert\n",
      "49/49 [==============================] - 5s 96ms/step - loss: 2.2474 - accuracy: 0.2646 - val_loss: 2.1788 - val_accuracy: 0.1857\n",
      "Epoch 2/50\n",
      "49/49 [==============================] - 5s 103ms/step - loss: 1.7511 - accuracy: 0.3916 - val_loss: 1.9887 - val_accuracy: 0.2778\n",
      "Epoch 3/50\n",
      "49/49 [==============================] - 5s 94ms/step - loss: 1.6194 - accuracy: 0.4356 - val_loss: 1.8450 - val_accuracy: 0.3522\n",
      "Epoch 4/50\n",
      "49/49 [==============================] - 4s 88ms/step - loss: 1.5466 - accuracy: 0.4593 - val_loss: 1.7227 - val_accuracy: 0.4093\n",
      "Epoch 5/50\n",
      "49/49 [==============================] - 4s 83ms/step - loss: 1.4925 - accuracy: 0.4786 - val_loss: 1.6422 - val_accuracy: 0.4266\n",
      "Epoch 6/50\n",
      "49/49 [==============================] - 4s 87ms/step - loss: 1.4468 - accuracy: 0.4958 - val_loss: 1.5909 - val_accuracy: 0.4443\n",
      "Epoch 7/50\n",
      "49/49 [==============================] - 4s 91ms/step - loss: 1.4064 - accuracy: 0.5126 - val_loss: 1.5676 - val_accuracy: 0.4454\n",
      "Epoch 8/50\n",
      "49/49 [==============================] - 5s 106ms/step - loss: 1.3736 - accuracy: 0.5236 - val_loss: 1.5280 - val_accuracy: 0.4582\n",
      "Epoch 9/50\n",
      "49/49 [==============================] - 5s 105ms/step - loss: 1.3414 - accuracy: 0.5343 - val_loss: 1.5052 - val_accuracy: 0.4715\n",
      "Epoch 10/50\n",
      "49/49 [==============================] - 5s 110ms/step - loss: 1.3118 - accuracy: 0.5451 - val_loss: 1.5026 - val_accuracy: 0.4725\n",
      "Epoch 11/50\n",
      "49/49 [==============================] - 5s 110ms/step - loss: 1.2850 - accuracy: 0.5532 - val_loss: 1.4956 - val_accuracy: 0.4735\n",
      "Epoch 12/50\n",
      "49/49 [==============================] - 5s 108ms/step - loss: 1.2588 - accuracy: 0.5637 - val_loss: 1.4744 - val_accuracy: 0.4795\n",
      "Epoch 13/50\n",
      "49/49 [==============================] - 5s 101ms/step - loss: 1.2323 - accuracy: 0.5723 - val_loss: 1.4645 - val_accuracy: 0.4871\n",
      "Epoch 14/50\n",
      "49/49 [==============================] - 5s 101ms/step - loss: 1.2075 - accuracy: 0.5837 - val_loss: 1.4706 - val_accuracy: 0.4867\n",
      "Epoch 15/50\n",
      "49/49 [==============================] - 5s 103ms/step - loss: 1.1827 - accuracy: 0.5930 - val_loss: 1.4720 - val_accuracy: 0.4877\n",
      "Epoch 16/50\n",
      "49/49 [==============================] - 5s 110ms/step - loss: 1.1612 - accuracy: 0.5995 - val_loss: 1.4614 - val_accuracy: 0.4882\n",
      "Epoch 17/50\n",
      "49/49 [==============================] - 6s 114ms/step - loss: 1.1386 - accuracy: 0.6101 - val_loss: 1.4508 - val_accuracy: 0.4928\n",
      "Epoch 18/50\n",
      "49/49 [==============================] - 5s 105ms/step - loss: 1.1158 - accuracy: 0.6188 - val_loss: 1.4579 - val_accuracy: 0.4896\n",
      "Epoch 19/50\n",
      "49/49 [==============================] - 5s 103ms/step - loss: 1.0958 - accuracy: 0.6271 - val_loss: 1.4527 - val_accuracy: 0.4954\n",
      "Epoch 20/50\n",
      "49/49 [==============================] - 5s 105ms/step - loss: 1.0727 - accuracy: 0.6345 - val_loss: 1.4584 - val_accuracy: 0.4928\n",
      "Epoch 21/50\n",
      "49/49 [==============================] - 5s 111ms/step - loss: 1.0514 - accuracy: 0.6426 - val_loss: 1.4522 - val_accuracy: 0.4946\n",
      "Epoch 22/50\n",
      "49/49 [==============================] - 6s 120ms/step - loss: 1.0299 - accuracy: 0.6527 - val_loss: 1.4520 - val_accuracy: 0.4927\n",
      "Epoch 23/50\n",
      "49/49 [==============================] - 6s 115ms/step - loss: 1.0091 - accuracy: 0.6603 - val_loss: 1.4514 - val_accuracy: 0.5009\n",
      "Epoch 24/50\n",
      "49/49 [==============================] - 5s 107ms/step - loss: 0.9882 - accuracy: 0.6691 - val_loss: 1.4725 - val_accuracy: 0.4913\n",
      "Epoch 25/50\n",
      "49/49 [==============================] - 6s 120ms/step - loss: 0.9684 - accuracy: 0.6750 - val_loss: 1.4549 - val_accuracy: 0.4950\n",
      "Epoch 26/50\n",
      "49/49 [==============================] - 6s 113ms/step - loss: 0.9469 - accuracy: 0.6839 - val_loss: 1.4622 - val_accuracy: 0.4934\n",
      "Epoch 27/50\n",
      "49/49 [==============================] - 5s 110ms/step - loss: 0.9270 - accuracy: 0.6902 - val_loss: 1.4716 - val_accuracy: 0.4969\n",
      "Epoch 28/50\n"
     ]
    },
    {
     "name": "stdout",
     "output_type": "stream",
     "text": [
      "49/49 [==============================] - 6s 116ms/step - loss: 0.9077 - accuracy: 0.6980 - val_loss: 1.4865 - val_accuracy: 0.4937\n",
      "Epoch 29/50\n",
      "49/49 [==============================] - 5s 110ms/step - loss: 0.8893 - accuracy: 0.7047 - val_loss: 1.4768 - val_accuracy: 0.4983\n",
      "Epoch 30/50\n",
      "49/49 [==============================] - 5s 107ms/step - loss: 0.8669 - accuracy: 0.7164 - val_loss: 1.4719 - val_accuracy: 0.4992\n",
      "Epoch 31/50\n",
      "49/49 [==============================] - 5s 110ms/step - loss: 0.8466 - accuracy: 0.7229 - val_loss: 1.4856 - val_accuracy: 0.4965\n",
      "Epoch 32/50\n",
      "49/49 [==============================] - 5s 103ms/step - loss: 0.8310 - accuracy: 0.7273 - val_loss: 1.4868 - val_accuracy: 0.4966\n",
      "Epoch 33/50\n",
      "49/49 [==============================] - 5s 108ms/step - loss: 0.8096 - accuracy: 0.7372 - val_loss: 1.5004 - val_accuracy: 0.4966\n",
      "Epoch 34/50\n",
      "49/49 [==============================] - 5s 107ms/step - loss: 0.7921 - accuracy: 0.7435 - val_loss: 1.5066 - val_accuracy: 0.4956\n",
      "Epoch 35/50\n",
      "49/49 [==============================] - 5s 106ms/step - loss: 0.7738 - accuracy: 0.7515 - val_loss: 1.5050 - val_accuracy: 0.4971\n",
      "Epoch 36/50\n",
      "49/49 [==============================] - 5s 101ms/step - loss: 0.7546 - accuracy: 0.7585 - val_loss: 1.5272 - val_accuracy: 0.4946\n",
      "Epoch 37/50\n",
      "49/49 [==============================] - 5s 103ms/step - loss: 0.7371 - accuracy: 0.7644 - val_loss: 1.5360 - val_accuracy: 0.4950\n",
      "Epoch 38/50\n",
      "49/49 [==============================] - 5s 96ms/step - loss: 0.7174 - accuracy: 0.7735 - val_loss: 1.5375 - val_accuracy: 0.4935\n",
      "Epoch 39/50\n",
      "49/49 [==============================] - 5s 98ms/step - loss: 0.7003 - accuracy: 0.7809 - val_loss: 1.5509 - val_accuracy: 0.4968\n",
      "Epoch 40/50\n",
      "49/49 [==============================] - 5s 101ms/step - loss: 0.6818 - accuracy: 0.7886 - val_loss: 1.5598 - val_accuracy: 0.4996\n",
      "Epoch 41/50\n",
      "49/49 [==============================] - 5s 102ms/step - loss: 0.6642 - accuracy: 0.7966 - val_loss: 1.5672 - val_accuracy: 0.4871\n",
      "Epoch 42/50\n",
      "49/49 [==============================] - 6s 115ms/step - loss: 0.6477 - accuracy: 0.8011 - val_loss: 1.5735 - val_accuracy: 0.4989\n",
      "Epoch 43/50\n",
      "49/49 [==============================] - 5s 109ms/step - loss: 0.6288 - accuracy: 0.8086 - val_loss: 1.5905 - val_accuracy: 0.4932\n",
      "Epoch 44/50\n",
      "49/49 [==============================] - 5s 109ms/step - loss: 0.6129 - accuracy: 0.8130 - val_loss: 1.5934 - val_accuracy: 0.4956\n",
      "Epoch 45/50\n",
      "49/49 [==============================] - 5s 104ms/step - loss: 0.5918 - accuracy: 0.8246 - val_loss: 1.5966 - val_accuracy: 0.4956\n",
      "Epoch 46/50\n",
      "49/49 [==============================] - 5s 110ms/step - loss: 0.5778 - accuracy: 0.8316 - val_loss: 1.6013 - val_accuracy: 0.4894\n",
      "Epoch 47/50\n",
      "49/49 [==============================] - 6s 120ms/step - loss: 0.5593 - accuracy: 0.8367 - val_loss: 1.6295 - val_accuracy: 0.4886\n",
      "Epoch 48/50\n",
      "49/49 [==============================] - 6s 116ms/step - loss: 0.5436 - accuracy: 0.8425 - val_loss: 1.6486 - val_accuracy: 0.4931\n",
      "Epoch 49/50\n",
      "49/49 [==============================] - 5s 102ms/step - loss: 0.5278 - accuracy: 0.8495 - val_loss: 1.6464 - val_accuracy: 0.4896\n",
      "Epoch 50/50\n",
      "49/49 [==============================] - 5s 100ms/step - loss: 0.5104 - accuracy: 0.8559 - val_loss: 1.6759 - val_accuracy: 0.4927\n"
     ]
    }
   ],
   "source": [
    "model = build_mlp(input_shape=x_train.shape[1:])\n",
    "model.summary()\n",
    "optimizer = keras.optimizers.SGD(lr=LEARNING_RATE, nesterov=True, momentum=MOMENTUM)\n",
    "model.compile(loss=\"categorical_crossentropy\", metrics=[\"accuracy\"], optimizer=optimizer)\n",
    "\n",
    "model.fit(x_train, y_train, \n",
    "          epochs=EPOCHS, \n",
    "          batch_size=BATCH_SIZE, \n",
    "          validation_data=(x_test, y_test), \n",
    "          shuffle=True,\n",
    "          callbacks=[log_f1sc]\n",
    "         )\n",
    "\n",
    "# Collect results\n",
    "train_loss = model.history.history[\"loss\"]\n",
    "valid_loss = model.history.history[\"val_loss\"]\n",
    "train_acc = model.history.history[\"accuracy\"]\n",
    "valid_acc = model.history.history[\"val_accuracy\"]\n",
    "\n",
    "# 在訓練後，將 f1sc 紀錄調出\n",
    "valid_f1sc = model.history.history['val_f1sc']"
   ]
  },
  {
   "cell_type": "code",
   "execution_count": 11,
   "metadata": {},
   "outputs": [
    {
     "data": {
      "image/png": "[encoded data removed]",
      "text/plain": [
       "<Figure size 432x288 with 1 Axes>"
      ]
     },
     "metadata": {
      "needs_background": "light"
     },
     "output_type": "display_data"
    },
    {
     "data": {
      "image/png": "[encoded data removed]",
      "text/plain": [
       "<Figure size 432x288 with 1 Axes>"
      ]
     },
     "metadata": {
      "needs_background": "light"
     },
     "output_type": "display_data"
    },
    {
     "data": {
      "image/png": "[encoded data removed]",
      "text/plain": [
       "<Figure size 432x288 with 1 Axes>"
      ]
     },
     "metadata": {
      "needs_background": "light"
     },
     "output_type": "display_data"
    }
   ],
   "source": [
    "import matplotlib.pyplot as plt\n",
    "%matplotlib inline\n",
    "\n",
    "plt.plot(range(len(train_loss)), train_loss, label=\"train loss\")\n",
    "plt.plot(range(len(valid_loss)), valid_loss, label=\"valid loss\")\n",
    "plt.legend()\n",
    "plt.title(\"Loss\")\n",
    "plt.show()\n",
    "\n",
    "plt.plot(range(len(train_acc)), train_acc, label=\"train accuracy\")\n",
    "plt.plot(range(len(valid_acc)), valid_acc, label=\"valid accuracy\")\n",
    "plt.legend()\n",
    "plt.title(\"Accuracy\")\n",
    "plt.show()\n",
    "\n",
    "plt.plot(range(len(valid_f1sc)), valid_f1sc, label=\"valid f1-score\")\n",
    "plt.legend()\n",
    "plt.title(\"F1-score\")\n",
    "plt.show()\n"
   ]
  },
  {
   "cell_type": "markdown",
   "metadata": {},
   "source": [
    "## Work\n",
    "1. 請嘗試寫一個 callback 用來記錄各類別在訓練過程中，對驗證集的 True Positive 與 True Negative"
   ]
  }
 ],
 "metadata": {
  "kernelspec": {
   "display_name": "Python 3",
   "language": "python",
   "name": "python3"
  },
  "language_info": {
   "codemirror_mode": {
    "name": "ipython",
    "version": 3
   },
   "file_extension": ".py",
   "mimetype": "text/x-python",
   "name": "python",
   "nbconvert_exporter": "python",
   "pygments_lexer": "ipython3",
   "version": "3.7.7"
  }
 },
 "nbformat": 4,
 "nbformat_minor": 2
}
