{
 "cells": [
  {
   "cell_type": "markdown",
   "metadata": {},
   "source": [
    "## 範例重點\n",
    "* 學習如何在 keras 中加入自定義的 callbacks\n",
    "* 知道 callback function 可以動作的時機"
   ]
  },
  {
   "cell_type": "code",
   "execution_count": 1,
   "metadata": {},
   "outputs": [],
   "source": [
    "import os\n",
    "import keras\n",
    "\n",
    "# 本範例不需使用 GPU, 將 GPU 設定為 \"無\"\n",
    "os.environ[\"CUDA_VISIBLE_DEVICES\"] = \"\""
   ]
  },
  {
   "cell_type": "code",
   "execution_count": 2,
   "metadata": {},
   "outputs": [],
   "source": [
    "train, test = keras.datasets.cifar10.load_data()"
   ]
  },
  {
   "cell_type": "code",
   "execution_count": 3,
   "metadata": {},
   "outputs": [],
   "source": [
    "## 資料前處理\n",
    "def preproc_x(x, flatten=True):\n",
    "    x = x / 255.\n",
    "    if flatten:\n",
    "        x = x.reshape((len(x), -1))\n",
    "    return x\n",
    "\n",
    "def preproc_y(y, num_classes=10):\n",
    "    if y.shape[-1] == 1:\n",
    "        y = keras.utils.to_categorical(y, num_classes)\n",
    "    return y    "
   ]
  },
  {
   "cell_type": "code",
   "execution_count": 4,
   "metadata": {},
   "outputs": [],
   "source": [
    "x_train, y_train = train\n",
    "x_test, y_test = test\n",
    "\n",
    "# 資料前處理 - X 標準化\n",
    "x_train = preproc_x(x_train)\n",
    "x_test = preproc_x(x_test)\n",
    "\n",
    "# 資料前處理 -Y 轉成 onehot\n",
    "y_train = preproc_y(y_train)\n",
    "y_test = preproc_y(y_test)"
   ]
  },
  {
   "cell_type": "code",
   "execution_count": 5,
   "metadata": {},
   "outputs": [],
   "source": [
    "from keras.layers import BatchNormalization\n",
    "\n",
    "\"\"\"\n",
    "建立神經網路，並加入 BN layer\n",
    "\"\"\"\n",
    "def build_mlp(input_shape, output_units=10, num_neurons=[512, 256, 128]):\n",
    "    input_layer = keras.layers.Input(input_shape)\n",
    "    \n",
    "    for i, n_units in enumerate(num_neurons):\n",
    "        if i == 0:\n",
    "            x = keras.layers.Dense(units=n_units, \n",
    "                                   activation=\"relu\", \n",
    "                                   name=\"hidden_layer\"+str(i+1))(input_layer)\n",
    "            x = BatchNormalization()(x)\n",
    "        else:\n",
    "            x = keras.layers.Dense(units=n_units, \n",
    "                                   activation=\"relu\", \n",
    "                                   name=\"hidden_layer\"+str(i+1))(x)\n",
    "            x = BatchNormalization()(x)\n",
    "    \n",
    "    out = keras.layers.Dense(units=output_units, activation=\"softmax\", name=\"output\")(x)\n",
    "    \n",
    "    model = keras.models.Model(inputs=[input_layer], outputs=[out])\n",
    "    return model"
   ]
  },
  {
   "cell_type": "code",
   "execution_count": 6,
   "metadata": {},
   "outputs": [],
   "source": [
    "## 超參數設定\n",
    "LEARNING_RATE = 1e-3\n",
    "EPOCHS = 50\n",
    "BATCH_SIZE = 1024\n",
    "MOMENTUM = 0.95"
   ]
  },
  {
   "cell_type": "code",
   "execution_count": 7,
   "metadata": {},
   "outputs": [],
   "source": [
    "\"\"\"\n",
    "# 載入 Callbacks，撰寫一個 f1 score 的 callback function\n",
    "\"\"\"\n",
    "\n",
    "from keras.callbacks import Callback\n",
    "from sklearn.metrics import f1_score\n",
    "\n",
    "class f1sc(Callback):\n",
    "     \n",
    "    def __init__(self, validation_data=()):\n",
    "        super(Callback, self).__init__()\n",
    "        self.x_val, self.y_val=validation_data\n",
    "    \n",
    "    def on_epoch_end(self, epoch, logs = {}, thres=0.5):\n",
    "        logs = logs or {}\n",
    "        y_true = self.y_val.argmax(axis = 1)\n",
    "        y_pred = self.model.predict(self.x_val)\n",
    "        y_pred = (y_pred[:, 1] >= thres) * 1\n",
    "        \n",
    "        logs[\"val_f1sc\"] = f1_score(y_true = y_true, y_pred = y_pred, average=\"weighted\")\n",
    "\n",
    "log_f1sc = f1sc(validation_data=(x_test, y_test))"
   ]
  },
  {
   "cell_type": "code",
   "execution_count": 8,
   "metadata": {
    "scrolled": true
   },
   "outputs": [
    {
     "name": "stdout",
     "output_type": "stream",
     "text": [
      "Model: \"functional_1\"\n",
      "_________________________________________________________________\n",
      "Layer (type)                 Output Shape              Param #   \n",
      "=================================================================\n",
      "input_1 (InputLayer)         [(None, 3072)]            0         \n",
      "_________________________________________________________________\n",
      "hidden_layer1 (Dense)        (None, 512)               1573376   \n",
      "_________________________________________________________________\n",
      "batch_normalization (BatchNo (None, 512)               2048      \n",
      "_________________________________________________________________\n",
      "hidden_layer2 (Dense)        (None, 256)               131328    \n",
      "_________________________________________________________________\n",
      "batch_normalization_1 (Batch (None, 256)               1024      \n",
      "_________________________________________________________________\n",
      "hidden_layer3 (Dense)        (None, 128)               32896     \n",
      "_________________________________________________________________\n",
      "batch_normalization_2 (Batch (None, 128)               512       \n",
      "_________________________________________________________________\n",
      "output (Dense)               (None, 10)                1290      \n",
      "=================================================================\n",
      "Total params: 1,742,474\n",
      "Trainable params: 1,740,682\n",
      "Non-trainable params: 1,792\n",
      "_________________________________________________________________\n",
      "Epoch 1/50\n",
      "WARNING:tensorflow:AutoGraph could not transform <function Model.make_train_function.<locals>.train_function at 0x0000022DA1C3A9D8> and will run it as-is.\n",
      "Please report this to the TensorFlow team. When filing the bug, set the verbosity to 10 (on Linux, `export AUTOGRAPH_VERBOSITY=10`) and attach the full output.\n",
      "Cause: 'arguments' object has no attribute 'posonlyargs'\n",
      "To silence this warning, decorate the function with @tf.autograph.experimental.do_not_convert\n",
      "WARNING: AutoGraph could not transform <function Model.make_train_function.<locals>.train_function at 0x0000022DA1C3A9D8> and will run it as-is.\n",
      "Please report this to the TensorFlow team. When filing the bug, set the verbosity to 10 (on Linux, `export AUTOGRAPH_VERBOSITY=10`) and attach the full output.\n",
      "Cause: 'arguments' object has no attribute 'posonlyargs'\n",
      "To silence this warning, decorate the function with @tf.autograph.experimental.do_not_convert\n",
      "49/49 [==============================] - ETA: 0s - loss: 2.2072 - accuracy: 0.2721WARNING:tensorflow:AutoGraph could not transform <function Model.make_test_function.<locals>.test_function at 0x0000022DA1F905E8> and will run it as-is.\n",
      "Please report this to the TensorFlow team. When filing the bug, set the verbosity to 10 (on Linux, `export AUTOGRAPH_VERBOSITY=10`) and attach the full output.\n",
      "Cause: 'arguments' object has no attribute 'posonlyargs'\n",
      "To silence this warning, decorate the function with @tf.autograph.experimental.do_not_convert\n",
      "WARNING: AutoGraph could not transform <function Model.make_test_function.<locals>.test_function at 0x0000022DA1F905E8> and will run it as-is.\n",
      "Please report this to the TensorFlow team. When filing the bug, set the verbosity to 10 (on Linux, `export AUTOGRAPH_VERBOSITY=10`) and attach the full output.\n",
      "Cause: 'arguments' object has no attribute 'posonlyargs'\n",
      "To silence this warning, decorate the function with @tf.autograph.experimental.do_not_convert\n",
      "WARNING:tensorflow:AutoGraph could not transform <function Model.make_predict_function.<locals>.predict_function at 0x0000022DA20AD1F8> and will run it as-is.\n",
      "Please report this to the TensorFlow team. When filing the bug, set the verbosity to 10 (on Linux, `export AUTOGRAPH_VERBOSITY=10`) and attach the full output.\n",
      "Cause: 'arguments' object has no attribute 'posonlyargs'\n",
      "To silence this warning, decorate the function with @tf.autograph.experimental.do_not_convert\n",
      "WARNING: AutoGraph could not transform <function Model.make_predict_function.<locals>.predict_function at 0x0000022DA20AD1F8> and will run it as-is.\n",
      "Please report this to the TensorFlow team. When filing the bug, set the verbosity to 10 (on Linux, `export AUTOGRAPH_VERBOSITY=10`) and attach the full output.\n",
      "Cause: 'arguments' object has no attribute 'posonlyargs'\n",
      "To silence this warning, decorate the function with @tf.autograph.experimental.do_not_convert\n",
      "49/49 [==============================] - 6s 114ms/step - loss: 2.2072 - accuracy: 0.2721 - val_loss: 2.1321 - val_accuracy: 0.1738\n",
      "Epoch 2/50\n",
      "49/49 [==============================] - 6s 123ms/step - loss: 1.7333 - accuracy: 0.3941 - val_loss: 1.9541 - val_accuracy: 0.2836\n",
      "Epoch 3/50\n",
      "49/49 [==============================] - 6s 121ms/step - loss: 1.6090 - accuracy: 0.4364 - val_loss: 1.8129 - val_accuracy: 0.3715\n",
      "Epoch 4/50\n",
      "49/49 [==============================] - 6s 130ms/step - loss: 1.5363 - accuracy: 0.4623 - val_loss: 1.7149 - val_accuracy: 0.4092\n",
      "Epoch 5/50\n",
      "49/49 [==============================] - 7s 140ms/step - loss: 1.4840 - accuracy: 0.4831 - val_loss: 1.6286 - val_accuracy: 0.4287\n",
      "Epoch 6/50\n",
      "49/49 [==============================] - 6s 132ms/step - loss: 1.4385 - accuracy: 0.4985 - val_loss: 1.5807 - val_accuracy: 0.4431\n",
      "Epoch 7/50\n",
      "49/49 [==============================] - 7s 138ms/step - loss: 1.3991 - accuracy: 0.5117 - val_loss: 1.5438 - val_accuracy: 0.4561\n",
      "Epoch 8/50\n",
      "49/49 [==============================] - 6s 131ms/step - loss: 1.3635 - accuracy: 0.5245 - val_loss: 1.5172 - val_accuracy: 0.4649\n",
      "Epoch 9/50\n",
      "49/49 [==============================] - 6s 131ms/step - loss: 1.3336 - accuracy: 0.5354 - val_loss: 1.5072 - val_accuracy: 0.4665\n",
      "Epoch 10/50\n",
      "49/49 [==============================] - 6s 128ms/step - loss: 1.3042 - accuracy: 0.5456 - val_loss: 1.4943 - val_accuracy: 0.4736\n",
      "Epoch 11/50\n",
      "49/49 [==============================] - 6s 127ms/step - loss: 1.2764 - accuracy: 0.5559 - val_loss: 1.4803 - val_accuracy: 0.4818\n",
      "Epoch 12/50\n",
      "49/49 [==============================] - 7s 134ms/step - loss: 1.2496 - accuracy: 0.5672 - val_loss: 1.4746 - val_accuracy: 0.4837\n",
      "Epoch 13/50\n",
      "49/49 [==============================] - 6s 132ms/step - loss: 1.2247 - accuracy: 0.5764 - val_loss: 1.4693 - val_accuracy: 0.4839\n",
      "Epoch 14/50\n",
      "49/49 [==============================] - 7s 136ms/step - loss: 1.1989 - accuracy: 0.5865 - val_loss: 1.4591 - val_accuracy: 0.4871\n",
      "Epoch 15/50\n",
      "49/49 [==============================] - 7s 133ms/step - loss: 1.1749 - accuracy: 0.5945 - val_loss: 1.4676 - val_accuracy: 0.4795\n",
      "Epoch 16/50\n",
      "49/49 [==============================] - 7s 134ms/step - loss: 1.1517 - accuracy: 0.6041 - val_loss: 1.4622 - val_accuracy: 0.4872\n",
      "Epoch 17/50\n",
      "49/49 [==============================] - 7s 150ms/step - loss: 1.1306 - accuracy: 0.6137 - val_loss: 1.4580 - val_accuracy: 0.4909\n",
      "Epoch 18/50\n",
      "49/49 [==============================] - 8s 171ms/step - loss: 1.1094 - accuracy: 0.6212 - val_loss: 1.4555 - val_accuracy: 0.4879\n",
      "Epoch 19/50\n",
      "49/49 [==============================] - 7s 152ms/step - loss: 1.0872 - accuracy: 0.6288 - val_loss: 1.4516 - val_accuracy: 0.4926\n",
      "Epoch 20/50\n",
      "49/49 [==============================] - 8s 161ms/step - loss: 1.0642 - accuracy: 0.6372 - val_loss: 1.4746 - val_accuracy: 0.4869\n",
      "Epoch 21/50\n",
      "49/49 [==============================] - 7s 149ms/step - loss: 1.0449 - accuracy: 0.6447 - val_loss: 1.4494 - val_accuracy: 0.4963\n",
      "Epoch 22/50\n",
      "49/49 [==============================] - 7s 144ms/step - loss: 1.0230 - accuracy: 0.6530 - val_loss: 1.4586 - val_accuracy: 0.4934\n",
      "Epoch 23/50\n",
      "49/49 [==============================] - 7s 145ms/step - loss: 1.0017 - accuracy: 0.6612 - val_loss: 1.4734 - val_accuracy: 0.4921\n",
      "Epoch 24/50\n",
      "49/49 [==============================] - 7s 143ms/step - loss: 0.9815 - accuracy: 0.6682 - val_loss: 1.4635 - val_accuracy: 0.4952\n",
      "Epoch 25/50\n",
      "49/49 [==============================] - 7s 134ms/step - loss: 0.9617 - accuracy: 0.6759 - val_loss: 1.4635 - val_accuracy: 0.5022\n",
      "Epoch 26/50\n",
      "49/49 [==============================] - 7s 147ms/step - loss: 0.9410 - accuracy: 0.6855 - val_loss: 1.4577 - val_accuracy: 0.4997\n",
      "Epoch 27/50\n",
      "49/49 [==============================] - 7s 144ms/step - loss: 0.9218 - accuracy: 0.6924 - val_loss: 1.4615 - val_accuracy: 0.5015\n",
      "Epoch 28/50\n"
     ]
    },
    {
     "name": "stdout",
     "output_type": "stream",
     "text": [
      "49/49 [==============================] - 8s 154ms/step - loss: 0.9021 - accuracy: 0.7007 - val_loss: 1.4684 - val_accuracy: 0.4969\n",
      "Epoch 29/50\n",
      "49/49 [==============================] - 7s 144ms/step - loss: 0.8805 - accuracy: 0.7085 - val_loss: 1.4761 - val_accuracy: 0.4994\n",
      "Epoch 30/50\n",
      "49/49 [==============================] - 8s 153ms/step - loss: 0.8615 - accuracy: 0.7153 - val_loss: 1.4919 - val_accuracy: 0.4981\n",
      "Epoch 31/50\n",
      "49/49 [==============================] - 7s 148ms/step - loss: 0.8433 - accuracy: 0.7234 - val_loss: 1.4953 - val_accuracy: 0.4984\n",
      "Epoch 32/50\n",
      "49/49 [==============================] - 7s 142ms/step - loss: 0.8221 - accuracy: 0.7316 - val_loss: 1.4995 - val_accuracy: 0.4957\n",
      "Epoch 33/50\n",
      "49/49 [==============================] - 7s 142ms/step - loss: 0.8052 - accuracy: 0.7377 - val_loss: 1.5050 - val_accuracy: 0.4962\n",
      "Epoch 34/50\n",
      "49/49 [==============================] - 7s 143ms/step - loss: 0.7844 - accuracy: 0.7472 - val_loss: 1.5003 - val_accuracy: 0.5017\n",
      "Epoch 35/50\n",
      "49/49 [==============================] - 7s 147ms/step - loss: 0.7645 - accuracy: 0.7557 - val_loss: 1.5005 - val_accuracy: 0.4994\n",
      "Epoch 36/50\n",
      "49/49 [==============================] - 6s 129ms/step - loss: 0.7471 - accuracy: 0.7637 - val_loss: 1.5195 - val_accuracy: 0.4925\n",
      "Epoch 37/50\n",
      "49/49 [==============================] - 6s 122ms/step - loss: 0.7267 - accuracy: 0.7709 - val_loss: 1.5397 - val_accuracy: 0.4975\n",
      "Epoch 38/50\n",
      "49/49 [==============================] - 6s 131ms/step - loss: 0.7097 - accuracy: 0.7773 - val_loss: 1.5420 - val_accuracy: 0.4936\n",
      "Epoch 39/50\n",
      "49/49 [==============================] - 6s 130ms/step - loss: 0.6910 - accuracy: 0.7854 - val_loss: 1.5389 - val_accuracy: 0.4955\n",
      "Epoch 40/50\n",
      "49/49 [==============================] - 6s 130ms/step - loss: 0.6721 - accuracy: 0.7908 - val_loss: 1.5488 - val_accuracy: 0.4941\n",
      "Epoch 41/50\n",
      "49/49 [==============================] - 7s 134ms/step - loss: 0.6559 - accuracy: 0.7984 - val_loss: 1.5747 - val_accuracy: 0.4956\n",
      "Epoch 42/50\n",
      "49/49 [==============================] - 7s 134ms/step - loss: 0.6372 - accuracy: 0.8070 - val_loss: 1.5904 - val_accuracy: 0.4912\n",
      "Epoch 43/50\n",
      "49/49 [==============================] - 6s 113ms/step - loss: 0.6188 - accuracy: 0.8127 - val_loss: 1.5897 - val_accuracy: 0.4949\n",
      "Epoch 44/50\n",
      "49/49 [==============================] - 5s 107ms/step - loss: 0.6027 - accuracy: 0.8196 - val_loss: 1.6157 - val_accuracy: 0.4872\n",
      "Epoch 45/50\n",
      "49/49 [==============================] - 6s 113ms/step - loss: 0.5856 - accuracy: 0.8256 - val_loss: 1.6094 - val_accuracy: 0.4919\n",
      "Epoch 46/50\n",
      "49/49 [==============================] - 5s 106ms/step - loss: 0.5673 - accuracy: 0.8334 - val_loss: 1.6178 - val_accuracy: 0.4870\n",
      "Epoch 47/50\n",
      "49/49 [==============================] - 6s 112ms/step - loss: 0.5504 - accuracy: 0.8414 - val_loss: 1.6334 - val_accuracy: 0.4933\n",
      "Epoch 48/50\n",
      "49/49 [==============================] - 6s 119ms/step - loss: 0.5344 - accuracy: 0.8466 - val_loss: 1.6650 - val_accuracy: 0.4844\n",
      "Epoch 49/50\n",
      "49/49 [==============================] - 6s 121ms/step - loss: 0.5185 - accuracy: 0.8511 - val_loss: 1.6579 - val_accuracy: 0.4927\n",
      "Epoch 50/50\n",
      "49/49 [==============================] - 6s 115ms/step - loss: 0.5025 - accuracy: 0.8588 - val_loss: 1.6753 - val_accuracy: 0.4887\n"
     ]
    }
   ],
   "source": [
    "model = build_mlp(input_shape=x_train.shape[1:])\n",
    "model.summary()\n",
    "optimizer = keras.optimizers.SGD(lr=LEARNING_RATE, nesterov=True, momentum=MOMENTUM)\n",
    "model.compile(loss=\"categorical_crossentropy\", metrics=[\"accuracy\"], optimizer=optimizer)\n",
    "\n",
    "model.fit(x_train, y_train, \n",
    "          epochs=EPOCHS, \n",
    "          batch_size=BATCH_SIZE, \n",
    "          validation_data=(x_test, y_test), \n",
    "          shuffle=True,\n",
    "          callbacks=[log_f1sc]\n",
    "         )\n",
    "\n",
    "# Collect results\n",
    "train_loss = model.history.history[\"loss\"]\n",
    "valid_loss = model.history.history[\"val_loss\"]\n",
    "train_acc = model.history.history[\"accuracy\"]\n",
    "valid_acc = model.history.history[\"val_accuracy\"]\n",
    "\n",
    "# 在訓練後，將 f1sc 紀錄調出\n",
    "valid_f1sc = model.history.history['val_f1sc']"
   ]
  },
  {
   "cell_type": "code",
   "execution_count": 9,
   "metadata": {},
   "outputs": [
    {
     "data": {
      "image/png": "[encoded data removed]",
      "text/plain": [
       "<Figure size 432x288 with 1 Axes>"
      ]
     },
     "metadata": {
      "needs_background": "light"
     },
     "output_type": "display_data"
    },
    {
     "data": {
      "image/png": "[encoded data removed]",
      "text/plain": [
       "<Figure size 432x288 with 1 Axes>"
      ]
     },
     "metadata": {
      "needs_background": "light"
     },
     "output_type": "display_data"
    },
    {
     "data": {
      "image/png": "[encoded data removed]",
      "text/plain": [
       "<Figure size 432x288 with 1 Axes>"
      ]
     },
     "metadata": {
      "needs_background": "light"
     },
     "output_type": "display_data"
    }
   ],
   "source": [
    "import matplotlib.pyplot as plt\n",
    "%matplotlib inline\n",
    "\n",
    "plt.plot(range(len(train_loss)), train_loss, label=\"train loss\")\n",
    "plt.plot(range(len(valid_loss)), valid_loss, label=\"valid loss\")\n",
    "plt.legend()\n",
    "plt.title(\"Loss\")\n",
    "plt.show()\n",
    "\n",
    "plt.plot(range(len(train_acc)), train_acc, label=\"train accuracy\")\n",
    "plt.plot(range(len(valid_acc)), valid_acc, label=\"valid accuracy\")\n",
    "plt.legend()\n",
    "plt.title(\"Accuracy\")\n",
    "plt.show()\n",
    "\n",
    "plt.plot(range(len(valid_f1sc)), valid_f1sc, label=\"valid f1-score\")\n",
    "plt.legend()\n",
    "plt.title(\"F1-score\")\n",
    "plt.show()\n"
   ]
  },
  {
   "cell_type": "code",
   "execution_count": 15,
   "metadata": {},
   "outputs": [],
   "source": [
    "y_pred=model.predict(x_test)"
   ]
  },
  {
   "cell_type": "code",
   "execution_count": 18,
   "metadata": {},
   "outputs": [
    {
     "data": {
      "text/plain": [
       "array([[False, False, False, ..., False, False, False],\n",
       "       [False, False, False, ..., False,  True, False],\n",
       "       [ True, False, False, ..., False, False, False],\n",
       "       ...,\n",
       "       [False, False,  True, ..., False, False, False],\n",
       "       [False, False, False, ..., False, False, False],\n",
       "       [False, False,  True, ..., False, False, False]])"
      ]
     },
     "execution_count": 18,
     "metadata": {},
     "output_type": "execute_result"
    }
   ],
   "source": [
    "y_pred>0.5"
   ]
  },
  {
   "cell_type": "code",
   "execution_count": 14,
   "metadata": {},
   "outputs": [
    {
     "data": {
      "text/plain": [
       "array([0., 0., 0., ..., 0., 1., 0.], dtype=float32)"
      ]
     },
     "execution_count": 14,
     "metadata": {},
     "output_type": "execute_result"
    }
   ],
   "source": [
    "y_test[:, 1]"
   ]
  },
  {
   "cell_type": "markdown",
   "metadata": {},
   "source": [
    "## Work\n",
    "1. 請嘗試寫一個 callback 用來記錄各類別在訓練過程中，對驗證集的 True Positive 與 True Negative"
   ]
  }
 ],
 "metadata": {
  "kernelspec": {
   "display_name": "Python 3",
   "language": "python",
   "name": "python3"
  },
  "language_info": {
   "codemirror_mode": {
    "name": "ipython",
    "version": 3
   },
   "file_extension": ".py",
   "mimetype": "text/x-python",
   "name": "python",
   "nbconvert_exporter": "python",
   "pygments_lexer": "ipython3",
   "version": "3.7.7"
  }
 },
 "nbformat": 4,
 "nbformat_minor": 2
}
