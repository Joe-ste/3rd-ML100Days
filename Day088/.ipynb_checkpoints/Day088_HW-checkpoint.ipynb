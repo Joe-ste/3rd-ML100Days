{
 "cells": [
  {
   "cell_type": "markdown",
   "metadata": {},
   "source": [
    "## Work\n",
    "1. 請嘗試寫一個 callback 用來記錄各類別在訓練過程中，對驗證集的 True Positive 與 True Negative"
   ]
  },
  {
   "cell_type": "code",
   "execution_count": 1,
   "metadata": {},
   "outputs": [],
   "source": [
    "import os\n",
    "import keras\n",
    "\n",
    "# Disable GPU\n",
    "os.environ[\"CUDA_VISIBLE_DEVICES\"] = \"\""
   ]
  },
  {
   "cell_type": "code",
   "execution_count": 2,
   "metadata": {},
   "outputs": [],
   "source": [
    "train, test = keras.datasets.cifar10.load_data()"
   ]
  },
  {
   "cell_type": "code",
   "execution_count": 3,
   "metadata": {},
   "outputs": [],
   "source": [
    "## 資料前處理\n",
    "def preproc_x(x, flatten=True):\n",
    "    x = x / 255.\n",
    "    if flatten:\n",
    "        x = x.reshape((len(x), -1))\n",
    "    return x\n",
    "\n",
    "def preproc_y(y, num_classes=10):\n",
    "    if y.shape[-1] == 1:\n",
    "        y = keras.utils.to_categorical(y, num_classes)\n",
    "    return y    "
   ]
  },
  {
   "cell_type": "code",
   "execution_count": 4,
   "metadata": {},
   "outputs": [],
   "source": [
    "x_train, y_train = train\n",
    "x_test, y_test = test\n",
    "\n",
    "# Preproc the inputs\n",
    "x_train = preproc_x(x_train)\n",
    "x_test = preproc_x(x_test)\n",
    "\n",
    "# Preprc the outputs\n",
    "y_train = preproc_y(y_train)\n",
    "y_test = preproc_y(y_test)"
   ]
  },
  {
   "cell_type": "code",
   "execution_count": 5,
   "metadata": {},
   "outputs": [],
   "source": [
    "from keras.layers import BatchNormalization\n",
    "\n",
    "\"\"\"\n",
    "建立神經網路，並加入 BN layer\n",
    "\"\"\"\n",
    "def build_mlp(input_shape, output_units=10, num_neurons=[512, 256, 128]):\n",
    "    input_layer = keras.layers.Input(input_shape)\n",
    "    \n",
    "    for i, n_units in enumerate(num_neurons):\n",
    "        if i == 0:\n",
    "            x = keras.layers.Dense(units=n_units, \n",
    "                                   activation=\"relu\", \n",
    "                                   name=\"hidden_layer\"+str(i+1))(input_layer)\n",
    "            x = BatchNormalization()(x)\n",
    "        else:\n",
    "            x = keras.layers.Dense(units=n_units, \n",
    "                                   activation=\"relu\", \n",
    "                                   name=\"hidden_layer\"+str(i+1))(x)\n",
    "            x = BatchNormalization()(x)\n",
    "    \n",
    "    out = keras.layers.Dense(units=output_units, activation=\"softmax\", name=\"output\")(x)\n",
    "    \n",
    "    model = keras.models.Model(inputs=[input_layer], outputs=[out])\n",
    "    return model"
   ]
  },
  {
   "cell_type": "code",
   "execution_count": 6,
   "metadata": {},
   "outputs": [],
   "source": [
    "## 超參數設定\n",
    "LEARNING_RATE = 1e-3\n",
    "EPOCHS = 25\n",
    "BATCH_SIZE = 1024\n",
    "MOMENTUM = 0.95"
   ]
  },
  {
   "cell_type": "code",
   "execution_count": 7,
   "metadata": {},
   "outputs": [],
   "source": [
    "# 載入 Callbacks\n",
    "from keras.callbacks import Callback\n",
    "from keras.metrics import TruePositives, TrueNegatives\n",
    "# Record_fp_tp\n",
    "class Record_tp_tn(Callback):\n",
    "    \"\"\"Code Here\n",
    "    撰寫一個紀錄 ture positive 與 true negative 數量的 callbacks    \n",
    "    \"\"\"\n",
    "    def __init__(self, validation_data=()):\n",
    "        super().__init__()\n",
    "        self.x_val, self.y_val = validation_data\n",
    "    def on_epoch_end(self, epoch, logs={}, thre=0.5):\n",
    "        logs = logs or {}\n",
    "        y_true = self.y_val.argmax(axis=1)\n",
    "        y_pred = self.model.predict(self.x_val)\n",
    "        y_pred = (y_pred[:,1]>thre) * 1\n",
    "\n",
    "        logs['val_tp'] = sum(y_pred * y_true)\n",
    "        logs['val_tn'] = sum((y_pred<0.5) & (y_true<0.5))\n",
    "\n",
    "rec_tptn = Record_tp_tn(validation_data=(x_test, y_test))"
   ]
  },
  {
   "cell_type": "code",
   "execution_count": 8,
   "metadata": {
    "scrolled": true
   },
   "outputs": [
    {
     "name": "stdout",
     "output_type": "stream",
     "text": [
      "Model: \"functional_1\"\n",
      "_________________________________________________________________\n",
      "Layer (type)                 Output Shape              Param #   \n",
      "=================================================================\n",
      "input_1 (InputLayer)         [(None, 3072)]            0         \n",
      "_________________________________________________________________\n",
      "hidden_layer1 (Dense)        (None, 512)               1573376   \n",
      "_________________________________________________________________\n",
      "batch_normalization (BatchNo (None, 512)               2048      \n",
      "_________________________________________________________________\n",
      "hidden_layer2 (Dense)        (None, 256)               131328    \n",
      "_________________________________________________________________\n",
      "batch_normalization_1 (Batch (None, 256)               1024      \n",
      "_________________________________________________________________\n",
      "hidden_layer3 (Dense)        (None, 128)               32896     \n",
      "_________________________________________________________________\n",
      "batch_normalization_2 (Batch (None, 128)               512       \n",
      "_________________________________________________________________\n",
      "output (Dense)               (None, 10)                1290      \n",
      "=================================================================\n",
      "Total params: 1,742,474\n",
      "Trainable params: 1,740,682\n",
      "Non-trainable params: 1,792\n",
      "_________________________________________________________________\n",
      "Epoch 1/25\n",
      "WARNING:tensorflow:AutoGraph could not transform <function Model.make_train_function.<locals>.train_function at 0x0000025E3FD189D8> and will run it as-is.\n",
      "Please report this to the TensorFlow team. When filing the bug, set the verbosity to 10 (on Linux, `export AUTOGRAPH_VERBOSITY=10`) and attach the full output.\n",
      "Cause: 'arguments' object has no attribute 'posonlyargs'\n",
      "To silence this warning, decorate the function with @tf.autograph.experimental.do_not_convert\n",
      "WARNING: AutoGraph could not transform <function Model.make_train_function.<locals>.train_function at 0x0000025E3FD189D8> and will run it as-is.\n",
      "Please report this to the TensorFlow team. When filing the bug, set the verbosity to 10 (on Linux, `export AUTOGRAPH_VERBOSITY=10`) and attach the full output.\n",
      "Cause: 'arguments' object has no attribute 'posonlyargs'\n",
      "To silence this warning, decorate the function with @tf.autograph.experimental.do_not_convert\n",
      "49/49 [==============================] - ETA: 0s - loss: 2.2093 - accuracy: 0.2699WARNING:tensorflow:AutoGraph could not transform <function Model.make_test_function.<locals>.test_function at 0x0000025E40531EE8> and will run it as-is.\n",
      "Please report this to the TensorFlow team. When filing the bug, set the verbosity to 10 (on Linux, `export AUTOGRAPH_VERBOSITY=10`) and attach the full output.\n",
      "Cause: 'arguments' object has no attribute 'posonlyargs'\n",
      "To silence this warning, decorate the function with @tf.autograph.experimental.do_not_convert\n",
      "WARNING: AutoGraph could not transform <function Model.make_test_function.<locals>.test_function at 0x0000025E40531EE8> and will run it as-is.\n",
      "Please report this to the TensorFlow team. When filing the bug, set the verbosity to 10 (on Linux, `export AUTOGRAPH_VERBOSITY=10`) and attach the full output.\n",
      "Cause: 'arguments' object has no attribute 'posonlyargs'\n",
      "To silence this warning, decorate the function with @tf.autograph.experimental.do_not_convert\n",
      "WARNING:tensorflow:AutoGraph could not transform <function Model.make_predict_function.<locals>.predict_function at 0x0000025E4067B828> and will run it as-is.\n",
      "Please report this to the TensorFlow team. When filing the bug, set the verbosity to 10 (on Linux, `export AUTOGRAPH_VERBOSITY=10`) and attach the full output.\n",
      "Cause: 'arguments' object has no attribute 'posonlyargs'\n",
      "To silence this warning, decorate the function with @tf.autograph.experimental.do_not_convert\n",
      "WARNING: AutoGraph could not transform <function Model.make_predict_function.<locals>.predict_function at 0x0000025E4067B828> and will run it as-is.\n",
      "Please report this to the TensorFlow team. When filing the bug, set the verbosity to 10 (on Linux, `export AUTOGRAPH_VERBOSITY=10`) and attach the full output.\n",
      "Cause: 'arguments' object has no attribute 'posonlyargs'\n",
      "To silence this warning, decorate the function with @tf.autograph.experimental.do_not_convert\n",
      "49/49 [==============================] - 5s 110ms/step - loss: 2.2093 - accuracy: 0.2699 - val_loss: 2.1099 - val_accuracy: 0.2235\n",
      "Epoch 2/25\n",
      "49/49 [==============================] - 5s 105ms/step - loss: 1.7605 - accuracy: 0.3877 - val_loss: 1.9684 - val_accuracy: 0.3102\n",
      "Epoch 3/25\n",
      "49/49 [==============================] - 5s 99ms/step - loss: 1.6313 - accuracy: 0.4270 - val_loss: 1.8438 - val_accuracy: 0.3625\n",
      "Epoch 4/25\n",
      "49/49 [==============================] - 5s 105ms/step - loss: 1.5540 - accuracy: 0.4556 - val_loss: 1.7452 - val_accuracy: 0.3870\n",
      "Epoch 5/25\n",
      "49/49 [==============================] - 5s 100ms/step - loss: 1.4990 - accuracy: 0.4724 - val_loss: 1.6690 - val_accuracy: 0.4128\n",
      "Epoch 6/25\n",
      "49/49 [==============================] - 5s 108ms/step - loss: 1.4524 - accuracy: 0.4925 - val_loss: 1.6069 - val_accuracy: 0.4307\n",
      "Epoch 7/25\n",
      "49/49 [==============================] - 5s 108ms/step - loss: 1.4114 - accuracy: 0.5090 - val_loss: 1.5603 - val_accuracy: 0.4514\n",
      "Epoch 8/25\n",
      "49/49 [==============================] - 5s 110ms/step - loss: 1.3751 - accuracy: 0.5211 - val_loss: 1.5346 - val_accuracy: 0.4608\n",
      "Epoch 9/25\n",
      "49/49 [==============================] - 5s 105ms/step - loss: 1.3453 - accuracy: 0.5307 - val_loss: 1.5220 - val_accuracy: 0.4659\n",
      "Epoch 10/25\n",
      "49/49 [==============================] - 5s 100ms/step - loss: 1.3126 - accuracy: 0.5452 - val_loss: 1.5059 - val_accuracy: 0.4689\n",
      "Epoch 11/25\n",
      "49/49 [==============================] - 5s 96ms/step - loss: 1.2813 - accuracy: 0.5548 - val_loss: 1.5013 - val_accuracy: 0.4700\n",
      "Epoch 12/25\n",
      "49/49 [==============================] - 5s 109ms/step - loss: 1.2539 - accuracy: 0.5643 - val_loss: 1.4867 - val_accuracy: 0.4783\n",
      "Epoch 13/25\n",
      "49/49 [==============================] - 5s 109ms/step - loss: 1.2278 - accuracy: 0.5771 - val_loss: 1.4687 - val_accuracy: 0.4823\n",
      "Epoch 14/25\n",
      "49/49 [==============================] - 5s 102ms/step - loss: 1.2021 - accuracy: 0.5860 - val_loss: 1.4774 - val_accuracy: 0.4778\n",
      "Epoch 15/25\n",
      "49/49 [==============================] - 5s 101ms/step - loss: 1.1773 - accuracy: 0.5938 - val_loss: 1.4697 - val_accuracy: 0.4880\n",
      "Epoch 16/25\n",
      "49/49 [==============================] - 5s 100ms/step - loss: 1.1561 - accuracy: 0.6017 - val_loss: 1.4653 - val_accuracy: 0.4873\n",
      "Epoch 17/25\n",
      "49/49 [==============================] - 5s 99ms/step - loss: 1.1311 - accuracy: 0.6116 - val_loss: 1.4629 - val_accuracy: 0.4875\n",
      "Epoch 18/25\n",
      "49/49 [==============================] - 5s 100ms/step - loss: 1.1092 - accuracy: 0.6202 - val_loss: 1.4759 - val_accuracy: 0.4873\n",
      "Epoch 19/25\n",
      "49/49 [==============================] - 6s 119ms/step - loss: 1.0879 - accuracy: 0.6275 - val_loss: 1.4651 - val_accuracy: 0.4870\n",
      "Epoch 20/25\n",
      "49/49 [==============================] - 5s 111ms/step - loss: 1.0663 - accuracy: 0.6367 - val_loss: 1.4593 - val_accuracy: 0.4932\n",
      "Epoch 21/25\n",
      "49/49 [==============================] - 6s 114ms/step - loss: 1.0429 - accuracy: 0.6424 - val_loss: 1.4650 - val_accuracy: 0.4883\n",
      "Epoch 22/25\n",
      "49/49 [==============================] - 6s 127ms/step - loss: 1.0222 - accuracy: 0.6525 - val_loss: 1.4539 - val_accuracy: 0.4943\n",
      "Epoch 23/25\n",
      "49/49 [==============================] - 7s 136ms/step - loss: 1.0011 - accuracy: 0.6604 - val_loss: 1.4805 - val_accuracy: 0.4889\n",
      "Epoch 24/25\n",
      "49/49 [==============================] - 6s 129ms/step - loss: 0.9797 - accuracy: 0.6684 - val_loss: 1.4614 - val_accuracy: 0.4972\n",
      "Epoch 25/25\n",
      "49/49 [==============================] - 7s 152ms/step - loss: 0.9584 - accuracy: 0.6761 - val_loss: 1.4779 - val_accuracy: 0.4949\n"
     ]
    }
   ],
   "source": [
    "model = build_mlp(input_shape=x_train.shape[1:])\n",
    "model.summary()\n",
    "optimizer = keras.optimizers.SGD(lr=LEARNING_RATE, nesterov=True, momentum=MOMENTUM)\n",
    "model.compile(loss=\"categorical_crossentropy\", metrics=[\"accuracy\"], optimizer=optimizer)\n",
    "\n",
    "\"\"\"Code Here\n",
    "將 callbacks 放入模型訓練流程中\n",
    "\"\"\"\n",
    "model.fit(x_train, y_train,\n",
    "          epochs=EPOCHS,\n",
    "          batch_size=BATCH_SIZE,\n",
    "          validation_data=(x_test, y_test),\n",
    "          callbacks=[rec_tptn],\n",
    "          shuffle=True)\n",
    "\n",
    "# Collect results\n",
    "train_loss = model.history.history[\"loss\"]\n",
    "valid_loss = model.history.history[\"val_loss\"]\n",
    "train_acc = model.history.history[\"accuracy\"]\n",
    "valid_acc = model.history.history[\"val_accuracy\"]\n",
    "\n",
    "\"\"\"Code Here\n",
    "將 tp/tn 從訓練完的模型中取出\n",
    "\"\"\"\n",
    "valid_tp = model.history.history[\"val_tp\"]\n",
    "valid_tn = model.history.history[\"val_tn\"]"
   ]
  },
  {
   "cell_type": "code",
   "execution_count": 9,
   "metadata": {},
   "outputs": [
    {
     "data": {
      "image/png": "[encoded data removed]",
      "text/plain": [
       "<Figure size 432x288 with 1 Axes>"
      ]
     },
     "metadata": {
      "needs_background": "light"
     },
     "output_type": "display_data"
    },
    {
     "data": {
      "image/png": "[encoded data removed]",
      "text/plain": [
       "<Figure size 432x288 with 1 Axes>"
      ]
     },
     "metadata": {
      "needs_background": "light"
     },
     "output_type": "display_data"
    },
    {
     "data": {
      "image/png": "[encoded data removed]",
      "text/plain": [
       "<Figure size 432x288 with 1 Axes>"
      ]
     },
     "metadata": {
      "needs_background": "light"
     },
     "output_type": "display_data"
    }
   ],
   "source": [
    "import matplotlib.pyplot as plt\n",
    "%matplotlib inline\n",
    "\n",
    "plt.plot(range(len(train_loss)), train_loss, label=\"train loss\")\n",
    "plt.plot(range(len(valid_loss)), valid_loss, label=\"valid loss\")\n",
    "plt.legend()\n",
    "plt.title(\"Loss\")\n",
    "plt.show()\n",
    "\n",
    "plt.plot(range(len(train_acc)), train_acc, label=\"train accuracy\")\n",
    "plt.plot(range(len(valid_acc)), valid_acc, label=\"valid accuracy\")\n",
    "plt.legend()\n",
    "plt.title(\"Accuracy\")\n",
    "plt.show()\n",
    "\n",
    "plt.plot(range(len(valid_tp)), valid_tp, label=\"valid tp\", color=\"navy\")\n",
    "plt.plot(range(len(valid_tn)), valid_tn, label=\"valid tn\", color=\"red\")\n",
    "plt.legend()\n",
    "plt.title(\"True positives and True Negatives\")\n",
    "plt.show()\n"
   ]
  },
  {
   "cell_type": "code",
   "execution_count": null,
   "metadata": {},
   "outputs": [],
   "source": []
  }
 ],
 "metadata": {
  "kernelspec": {
   "display_name": "Python 3",
   "language": "python",
   "name": "python3"
  },
  "language_info": {
   "codemirror_mode": {
    "name": "ipython",
    "version": 3
   },
   "file_extension": ".py",
   "mimetype": "text/x-python",
   "name": "python",
   "nbconvert_exporter": "python",
   "pygments_lexer": "ipython3",
   "version": "3.7.7"
  }
 },
 "nbformat": 4,
 "nbformat_minor": 2
}
